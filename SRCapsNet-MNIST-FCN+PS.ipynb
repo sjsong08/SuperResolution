{
 "cells": [
  {
   "cell_type": "markdown",
   "metadata": {},
   "source": [
    "# SRCapsNet FCN + PS (MNIST)\n",
    "![image](https://i.imgur.com/IDGWBwG.png)"
   ]
  },
  {
   "cell_type": "code",
   "execution_count": 1,
   "metadata": {
    "collapsed": false
   },
   "outputs": [
    {
     "name": "stderr",
     "output_type": "stream",
     "text": [
      "/usr/local/lib/python3.5/dist-packages/h5py/__init__.py:34: FutureWarning: Conversion of the second argument of issubdtype from `float` to `np.floating` is deprecated. In future, it will be treated as `np.float64 == np.dtype(float).type`.\n",
      "  from ._conv import register_converters as _register_converters\n"
     ]
    },
    {
     "name": "stdout",
     "output_type": "stream",
     "text": [
      "WARNING:tensorflow:From /usr/local/lib/python3.5/dist-packages/tensorflow/contrib/learn/python/learn/datasets/base.py:198: retry (from tensorflow.contrib.learn.python.learn.datasets.base) is deprecated and will be removed in a future version.\n",
      "Instructions for updating:\n",
      "Use the retry module or similar alternatives.\n",
      "Training data set : 50000, Test data Set : 10000\n"
     ]
    }
   ],
   "source": [
    "import os, sys, time\n",
    "import numpy as np\n",
    "import scipy.ndimage, scipy.misc\n",
    "import matplotlib.pyplot as plt\n",
    "import pickle\n",
    "import tensorflow as tf\n",
    "slim = tf.contrib.slim\n",
    "\n",
    "os.environ[\"CUDA_DEVICE_ORDER\"]=\"PCI_BUS_ID\"\n",
    "os.environ[\"CUDA_VISIBLE_DEVICES\"]=\"0\"\n",
    "#os.environ[\"CUDA_VISIBLE_DEVICES\"]=\"0,1\"\n",
    "\n",
    "\n",
    "\n",
    "def unpickle(file):\n",
    "    with open(file, 'rb') as f:\n",
    "        data = pickle.load(f, encoding='latin1')\n",
    "        return data\n",
    "\n",
    "def load_cifar10_data(data_dir):\n",
    "    train_data = None\n",
    "    train_labels = []\n",
    "    \n",
    "    for i in range(1,6):\n",
    "        data_dic = unpickle(data_dir + \"/data_batch_{}\".format(i))\n",
    "        if i==1:\n",
    "            train_data = data_dic['data']\n",
    "        else:\n",
    "            train_data = np.vstack((train_data, data_dic['data']))\n",
    "        train_labels += data_dic['labels']\n",
    "    test_data_dic = unpickle(data_dir + \"/test_batch\")\n",
    "    test_data = test_data_dic['data']\n",
    "    test_labels = test_data_dic['labels']\n",
    "    \n",
    "    train_data = train_data.reshape((len(train_data), 3, 32, 32))\n",
    "    train_data = np.rollaxis(train_data, 1, 4)\n",
    "    train_labels = np.array(train_labels)\n",
    "    \n",
    "    test_data = test_data.reshape((len(test_data), 3, 32, 32))\n",
    "    test_data = np.rollaxis(test_data, 1, 4)\n",
    "    test_labels = np.array(test_labels)\n",
    "    \n",
    "    return train_data, train_labels, test_data, test_labels\n",
    "\n",
    "data_dir = '/ideaHome/Dropbox/SJ/ML/Cifar10/Data/cifar-10-batches-py'\n",
    "trImg, train_labels, teImg, test_labels = load_cifar10_data(data_dir)\n",
    "\n",
    "\n",
    "print(\"Training data set : %3d, Test data Set : %3d\" %(trImg.shape[0], teImg.shape[0]))"
   ]
  },
  {
   "cell_type": "markdown",
   "metadata": {},
   "source": [
    "# MNIST DATA"
   ]
  },
  {
   "cell_type": "code",
   "execution_count": 2,
   "metadata": {
    "collapsed": false
   },
   "outputs": [
    {
     "name": "stdout",
     "output_type": "stream",
     "text": [
      "WARNING:tensorflow:From <ipython-input-2-8bf8ae5a5303>:2: read_data_sets (from tensorflow.contrib.learn.python.learn.datasets.mnist) is deprecated and will be removed in a future version.\n",
      "Instructions for updating:\n",
      "Please use alternatives such as official/mnist/dataset.py from tensorflow/models.\n",
      "WARNING:tensorflow:From /usr/local/lib/python3.5/dist-packages/tensorflow/contrib/learn/python/learn/datasets/mnist.py:260: maybe_download (from tensorflow.contrib.learn.python.learn.datasets.base) is deprecated and will be removed in a future version.\n",
      "Instructions for updating:\n",
      "Please write your own downloading logic.\n",
      "WARNING:tensorflow:From /usr/local/lib/python3.5/dist-packages/tensorflow/contrib/learn/python/learn/datasets/mnist.py:262: extract_images (from tensorflow.contrib.learn.python.learn.datasets.mnist) is deprecated and will be removed in a future version.\n",
      "Instructions for updating:\n",
      "Please use tf.data to implement this functionality.\n",
      "Extracting MNIST_data/train-images-idx3-ubyte.gz\n",
      "WARNING:tensorflow:From /usr/local/lib/python3.5/dist-packages/tensorflow/contrib/learn/python/learn/datasets/mnist.py:267: extract_labels (from tensorflow.contrib.learn.python.learn.datasets.mnist) is deprecated and will be removed in a future version.\n",
      "Instructions for updating:\n",
      "Please use tf.data to implement this functionality.\n",
      "Extracting MNIST_data/train-labels-idx1-ubyte.gz\n",
      "WARNING:tensorflow:From /usr/local/lib/python3.5/dist-packages/tensorflow/contrib/learn/python/learn/datasets/mnist.py:110: dense_to_one_hot (from tensorflow.contrib.learn.python.learn.datasets.mnist) is deprecated and will be removed in a future version.\n",
      "Instructions for updating:\n",
      "Please use tf.one_hot on tensors.\n",
      "Extracting MNIST_data/t10k-images-idx3-ubyte.gz\n",
      "Extracting MNIST_data/t10k-labels-idx1-ubyte.gz\n",
      "WARNING:tensorflow:From /usr/local/lib/python3.5/dist-packages/tensorflow/contrib/learn/python/learn/datasets/mnist.py:290: DataSet.__init__ (from tensorflow.contrib.learn.python.learn.datasets.mnist) is deprecated and will be removed in a future version.\n",
      "Instructions for updating:\n",
      "Please use alternatives such as official/mnist/dataset.py from tensorflow/models.\n"
     ]
    }
   ],
   "source": [
    "from tensorflow.examples.tutorials.mnist import input_data\n",
    "mnist = input_data.read_data_sets(\"MNIST_data/\", one_hot=True)"
   ]
  },
  {
   "cell_type": "code",
   "execution_count": 3,
   "metadata": {
    "collapsed": true
   },
   "outputs": [],
   "source": [
    "def toLR(image, scale=2.):\n",
    "    if len(image.shape)==4:\n",
    "        num_sample = image.shape[0]\n",
    "        images = np.zeros([image.shape[0], int(image.shape[1]/scale), int(image.shape[2]/scale), image.shape[3]])\n",
    "        for i in range(num_sample):\n",
    "            images[i,:,:,0] = scipy.misc.imresize(image[i,:,:,0], 1/scale,'bicubic')\n",
    "        return images\n",
    "    else:\n",
    "        return scipy.misc.imresize(image, 1/scale, 'bicubic')\n",
    "    \n",
    "\n",
    "def Bicubic(image, scale=2):\n",
    "    if len(image.shape)==4:\n",
    "        bicImg = scipy.ndimage.interpolation.zoom(image, [1, scale, scale, 1], prefilter=False)\n",
    "    else:\n",
    "        bicImg = scipy.ndimage.interpolation.zoom(image, [scale,scale, 1], prefilter=False)\n",
    "    return bicImg\n",
    "\n",
    "def _phase_shift(I, r):\n",
    "    # Helper function with main phase shift operation\n",
    "    bsize, a, b, c = I.get_shape().as_list()\n",
    "    X = tf.reshape(I, (-1, a, b, r, r))\n",
    "    X = tf.transpose(X, (0, 1, 2, 4, 3))  # bsize, a, b, 1, 1\n",
    "    X = tf.split(X, a, 1)  # a, [bsize, b, r, r]\n",
    "    X = tf.concat([tf.squeeze(x) for x in X], axis=2)  # bsize, b, a*r, r\n",
    "    X = tf.split(X, b, 1)  # b, [bsize, a*r, r]\n",
    "    X = tf.concat([tf.squeeze(x) for x in X], axis=2)  # bsize, a*r, b*r\n",
    "    return tf.reshape(X, (-1, a*r, b*r, 1))\n",
    "\n",
    "def PS(X, r, color=False):\n",
    "  # Main OP that you can arbitrarily use in you tensorflow code\n",
    "    if color:\n",
    "        Xc = tf.split(X,3,3) #(3, 3, X)\n",
    "        X = tf.concat([_phase_shift(x, r) for x in Xc], axis=3)\n",
    "    else:\n",
    "        X = _phase_shift(X, r)\n",
    "    return X\n",
    "\n",
    "def squash(s, axis=-1, epsilon=1e-7, name=None):\n",
    "    with tf.name_scope(name, default_name=\"squash\"):\n",
    "        squared_norm = tf.reduce_sum(tf.square(s), axis=axis, keep_dims=True)\n",
    "        safe_norm = tf.sqrt(squared_norm + epsilon)\n",
    "        squash_factor = squared_norm / (1. + squared_norm)\n",
    "        unit_vector = s / safe_norm\n",
    "    return squash_factor * unit_vector\n",
    "\n",
    "def safe_norm(s, axis=-1, epsilon=1e-7, keep_dims=False, name=None):\n",
    "    with tf.name_scope(name, default_name=\"safe_norm\"):\n",
    "        squared_norm = tf.reduce_sum(tf.square(s), axis=axis,\n",
    "                                     keep_dims=keep_dims)\n",
    "        return tf.sqrt(squared_norm + epsilon)"
   ]
  },
  {
   "cell_type": "code",
   "execution_count": 4,
   "metadata": {
    "collapsed": false
   },
   "outputs": [
    {
     "name": "stderr",
     "output_type": "stream",
     "text": [
      "/usr/local/lib/python3.5/dist-packages/scipy/misc/pilutil.py:482: FutureWarning: Conversion of the second argument of issubdtype from `int` to `np.signedinteger` is deprecated. In future, it will be treated as `np.int64 == np.dtype(int).type`.\n",
      "  if issubdtype(ts, int):\n",
      "/usr/local/lib/python3.5/dist-packages/scipy/misc/pilutil.py:485: FutureWarning: Conversion of the second argument of issubdtype from `float` to `np.floating` is deprecated. In future, it will be treated as `np.float64 == np.dtype(float).type`.\n",
      "  elif issubdtype(type(size), float):\n"
     ]
    },
    {
     "data": {
      "text/plain": [
       "<matplotlib.image.AxesImage at 0x7f739fff30f0>"
      ]
     },
     "execution_count": 4,
     "metadata": {},
     "output_type": "execute_result"
    },
    {
     "data": {
      "image/png": "[encoded data removed]",
      "text/plain": [
       "<matplotlib.figure.Figure at 0x7f73a80d10f0>"
      ]
     },
     "metadata": {},
     "output_type": "display_data"
    }
   ],
   "source": [
    "testSample = np.reshape(mnist.train.images[0,:], [1,28,28,1])\n",
    "\n",
    "LRtestSample = toLR(testSample)\n",
    "\n",
    "UPtestSample = Bicubic(LRtestSample, 2)\n",
    "plt.figure(figsize=[20.,10])\n",
    "plt.subplot(1,3,1)\n",
    "plt.imshow(testSample[0,:,:,0], cmap='gray')\n",
    "plt.subplot(1,3,2)\n",
    "plt.imshow(LRtestSample[0,:,:,0], cmap='gray')\n",
    "plt.subplot(1,3,3)\n",
    "plt.imshow(UPtestSample[0,:,:,0], cmap='gray')"
   ]
  },
  {
   "cell_type": "code",
   "execution_count": 5,
   "metadata": {
    "collapsed": true
   },
   "outputs": [],
   "source": [
    "class SRCapsNet(object):\n",
    "    def __init__(self, mode):\n",
    "        self.LR_dim = (None, 28,28,1)\n",
    "        self.HR_dim = (None, 28,28,1)\n",
    "        self.batch_size = 32\n",
    "        self.mode = mode\n",
    "        \n",
    "        self.routing_iter = 3\n",
    "        self.caps1_num = 6*6*32\n",
    "        self.caps1_dim = 8\n",
    "        self.caps2_vec = 10\n",
    "        self.caps2_num = 1*1*self.caps2_vec\n",
    "        self.caps2_dim = 16\n",
    "        \n",
    "        self.W_init = tf.random_normal(shape=(1, self.caps1_num, self.caps2_num, self.caps2_dim, self.caps1_dim), \n",
    "                                      stddev = 0.1, dtype=tf.float32, name='W_init')\n",
    "        self.W = tf.Variable(self.W_init, name='w')\n",
    "        \n",
    "        print('The model is generated')\n",
    "        \n",
    "    def model(self, img):\n",
    "        with slim.arg_scope([slim.conv2d],kernel_size=[5,5], stride=[1,1], activation_fn = tf.nn.leaky_relu,\n",
    "                            padding='valid',weights_initializer=tf.contrib.layers.xavier_initializer()):\n",
    "            \n",
    "            self.conv1 = slim.conv2d(inputs=img, num_outputs=256, scope='conv1')\n",
    "            print(self.conv1)\n",
    "            self.conv2 = slim.conv2d(inputs=self.conv1, num_outputs=256, scope='conv2')\n",
    "        batch_size = tf.shape(img)[0]    \n",
    "        self.caps1 = tf.reshape(self.conv2, [batch_size, self.caps1_num, self.caps1_dim], name='caps1')\n",
    "        self.caps1_squash = squash(self.caps1, name='caps1_squash')\n",
    "            \n",
    "            \n",
    "        self.W_tiled = tf.tile(self.W, [batch_size, 1, 1, 1, 1], name='W_tiled')\n",
    "            \n",
    "        self.caps1_expanded = tf.expand_dims(self.caps1_squash, -1, name='caps1_expanded')\n",
    "        self.caps1_expanded2 = tf.expand_dims(self.caps1_expanded, 2, name='caps1_expanded2')\n",
    "        self.caps1_tiled = tf.tile(self.caps1_expanded2, [1, 1, self.caps2_num, 1, 1], name='caps1_tiled')\n",
    "        self.caps2_in = tf.matmul(self.W_tiled, self.caps1_tiled, name='caps2_in')\n",
    "        self.b_ij = tf.zeros([batch_size, self.caps1_num, self.caps2_num, 1, 1], name='b_ij')\n",
    "        for i in range(self.routing_iter):\n",
    "            if i>0:\n",
    "                self.b_ij = tf.add(self.b_ij, agreement)\n",
    "            self.c_ij = tf.nn.softmax(self.b_ij, dim=2, name='c_ij')\n",
    "            self.s_j = tf.reduce_sum(tf.multiply(self.c_ij, self.caps2_in), axis=1, keep_dims=True, name='s_j')\n",
    "            self.v_j = squash(self.s_j, axis=-2, name='v_j')\n",
    "            if i<self.routing_iter-1:\n",
    "                self.v_j_tiled = tf.tile(self.v_j, [1, self.caps1_num, 1, 1, 1], name='v_j_tiled')\n",
    "                agreement = tf.matmul(self.caps2_in, self.v_j_tiled, transpose_a=True, name='agreement')\n",
    "\n",
    "        self.caps2_out = self.v_j\n",
    "        self.caps2_reshape = tf.reshape(self.caps2_out, [-1, 10*16], name='caps2_reshape')\n",
    "        self.fc1 = slim.fully_connected(inputs=self.caps2_reshape, num_outputs=256, activation_fn=tf.nn.relu, scope='fc1')\n",
    "        self.fc2 = slim.fully_connected(inputs=self.fc1, num_outputs=256, activation_fn=tf.nn.relu, scope='fc2')\n",
    "        self.fc3 = slim.fully_connected(inputs=self.fc2, num_outputs=196, activation_fn=tf.nn.sigmoid, scope='fc3')\n",
    "        self.for_PS = tf.reshape(self.fc3, [-1, 14, 14, 1])\n",
    "        self.conv3 = slim.conv2d(inputs=self.for_PS, num_outputs=4,kernel_size=[5,5], stride=[1,1],\n",
    "                                activation_fn=tf.nn.sigmoid, padding='same', scope='conv3')\n",
    "        self.out_layer = PS(self.conv3, 2, False)\n",
    "        #self.conv3 = slim.conv2d(inputs=self.caps2_reshape, num_outputs=12, scope='conv3', activation_fn=None)\n",
    "        #self.out_layer = PS(self.conv3, 2, True)\n",
    "\n",
    "        out = self.out_layer\n",
    "        return out\n",
    "    \n",
    "    def loss(self, SR, HR):\n",
    "        loss = tf.reduce_mean(tf.square(SR - HR), name='loss')\n",
    "        return loss\n",
    "    \n",
    "    def build(self):\n",
    "        if self.mode == 'bicubic':\n",
    "            self.LRImg = tf.placeholder(tf.float32, [None, 28, 28, 1], 'LRImgBicubic')\n",
    "        elif self.mode == 'pixelshuffle':\n",
    "            self.LRImg = tf.placeholder(tf.float32, [None, 14, 14, 1], 'LRImgPixelShuffle')\n",
    "        else:\n",
    "            print ('undefined mode')\n",
    "        self.HRImg = tf.placeholder(tf.float32, [None, 28, 28, 1], 'HRImg')\n",
    "        self.SRImg = self.model(self.LRImg)\n",
    "        self.LOSS = self.loss(self.SRImg, self.HRImg)\n",
    "    \n",
    "   \n",
    "    \n",
    "    "
   ]
  },
  {
   "cell_type": "code",
   "execution_count": 6,
   "metadata": {
    "collapsed": false,
    "scrolled": false
   },
   "outputs": [
    {
     "name": "stdout",
     "output_type": "stream",
     "text": [
      "The model is generated\n",
      "Tensor(\"conv1/LeakyRelu/Maximum:0\", shape=(?, 10, 10, 256), dtype=float32)\n",
      "WARNING:tensorflow:From <ipython-input-3-8e21901b3f96>:41: calling reduce_sum (from tensorflow.python.ops.math_ops) with keep_dims is deprecated and will be removed in a future version.\n",
      "Instructions for updating:\n",
      "keep_dims is deprecated, use keepdims instead\n",
      "WARNING:tensorflow:From <ipython-input-5-67ce1b014636>:43: calling softmax (from tensorflow.python.ops.nn_ops) with dim is deprecated and will be removed in a future version.\n",
      "Instructions for updating:\n",
      "dim is deprecated, use axis instead\n",
      "---------\n",
      "Variables: name (type shape) [size]\n",
      "---------\n",
      "w:0 (float32_ref 1x1152x10x16x8) [1474560, bytes: 5898240]\n",
      "conv1/weights:0 (float32_ref 5x5x1x256) [6400, bytes: 25600]\n",
      "conv1/biases:0 (float32_ref 256) [256, bytes: 1024]\n",
      "conv2/weights:0 (float32_ref 5x5x256x256) [1638400, bytes: 6553600]\n",
      "conv2/biases:0 (float32_ref 256) [256, bytes: 1024]\n",
      "fc1/weights:0 (float32_ref 160x256) [40960, bytes: 163840]\n",
      "fc1/biases:0 (float32_ref 256) [256, bytes: 1024]\n",
      "fc2/weights:0 (float32_ref 256x256) [65536, bytes: 262144]\n",
      "fc2/biases:0 (float32_ref 256) [256, bytes: 1024]\n",
      "fc3/weights:0 (float32_ref 256x196) [50176, bytes: 200704]\n",
      "fc3/biases:0 (float32_ref 196) [196, bytes: 784]\n",
      "conv3/weights:0 (float32_ref 5x5x1x4) [100, bytes: 400]\n",
      "conv3/biases:0 (float32_ref 4) [4, bytes: 16]\n",
      "Total size of variables: 3277356\n",
      "Total bytes of variables: 13109424\n"
     ]
    },
    {
     "data": {
      "text/plain": [
       "(3277356, 13109424)"
      ]
     },
     "execution_count": 6,
     "metadata": {},
     "output_type": "execute_result"
    }
   ],
   "source": [
    "tf.reset_default_graph()\n",
    "model = SRCapsNet('pixelshuffle')\n",
    "model.build()\n",
    "\n",
    "t_vars = tf.trainable_variables()\n",
    "slim.model_analyzer.analyze_vars(t_vars, print_info=True)"
   ]
  },
  {
   "cell_type": "code",
   "execution_count": 7,
   "metadata": {
    "collapsed": true
   },
   "outputs": [],
   "source": [
    "optm = tf.train.AdamOptimizer(learning_rate=1e-3).minimize(model.LOSS)"
   ]
  },
  {
   "cell_type": "code",
   "execution_count": 8,
   "metadata": {
    "collapsed": false,
    "scrolled": false
   },
   "outputs": [
    {
     "name": "stdout",
     "output_type": "stream",
     "text": [
      "initialization complete\n"
     ]
    }
   ],
   "source": [
    "config = tf.ConfigProto()\n",
    "config.gpu_options.allow_growth = True\n",
    "sess = tf.Session(config=config) \n",
    "sess.run(tf.global_variables_initializer())\n",
    "print('initialization complete')"
   ]
  },
  {
   "cell_type": "code",
   "execution_count": 9,
   "metadata": {
    "collapsed": false,
    "scrolled": false
   },
   "outputs": [
    {
     "name": "stdout",
     "output_type": "stream",
     "text": [
      "batch_size: 32\n"
     ]
    },
    {
     "name": "stderr",
     "output_type": "stream",
     "text": [
      "/usr/local/lib/python3.5/dist-packages/scipy/misc/pilutil.py:482: FutureWarning: Conversion of the second argument of issubdtype from `int` to `np.signedinteger` is deprecated. In future, it will be treated as `np.int64 == np.dtype(int).type`.\n",
      "  if issubdtype(ts, int):\n",
      "/usr/local/lib/python3.5/dist-packages/scipy/misc/pilutil.py:485: FutureWarning: Conversion of the second argument of issubdtype from `float` to `np.floating` is deprecated. In future, it will be treated as `np.float64 == np.dtype(float).type`.\n",
      "  elif issubdtype(type(size), float):\n"
     ]
    },
    {
     "name": "stdout",
     "output_type": "stream",
     "text": [
      "epoch:   0, avg_PSNR: 12.528039, time: 340.9\n",
      "epoch:   1, avg_PSNR: 15.926314, time: 345.5\n",
      "epoch:   2, avg_PSNR: 17.991798, time: 345.8\n",
      "epoch:   3, avg_PSNR: 19.447555, time: 341.2\n",
      "epoch:   4, avg_PSNR: 20.544907, time: 332.5\n",
      "epoch:   5, avg_PSNR: 21.390826, time: 330.8\n",
      "epoch:   6, avg_PSNR: 22.045645, time: 340.1\n",
      "epoch:   7, avg_PSNR: 22.567961, time: 347.4\n",
      "epoch:   8, avg_PSNR: 22.969446, time: 348.3\n",
      "epoch:   9, avg_PSNR: 23.297882, time: 347.7\n",
      "epoch:  10, avg_PSNR: 23.582264, time: 348.1\n",
      "epoch:  11, avg_PSNR: 23.802497, time: 341.7\n",
      "epoch:  12, avg_PSNR: 24.002058, time: 345.6\n",
      "epoch:  13, avg_PSNR: 24.177895, time: 349.4\n",
      "epoch:  14, avg_PSNR: 24.344418, time: 348.2\n",
      "epoch:  15, avg_PSNR: 24.481432, time: 352.7\n",
      "epoch:  16, avg_PSNR: 24.621325, time: 355.3\n",
      "epoch:  17, avg_PSNR: 24.760099, time: 356.7\n",
      "epoch:  18, avg_PSNR: 24.854144, time: 351.4\n",
      "epoch:  19, avg_PSNR: 24.980524, time: 350.0\n",
      "epoch:  20, avg_PSNR: 25.066969, time: 348.4\n",
      "epoch:  21, avg_PSNR: 25.165694, time: 353.8\n",
      "epoch:  22, avg_PSNR: 25.261138, time: 355.0\n",
      "epoch:  23, avg_PSNR: 25.346289, time: 337.4\n",
      "epoch:  24, avg_PSNR: 25.427782, time: 333.5\n",
      "epoch:  25, avg_PSNR: 25.509559, time: 332.9\n",
      "epoch:  26, avg_PSNR: 25.579476, time: 342.6\n",
      "epoch:  27, avg_PSNR: 25.644586, time: 358.3\n",
      "epoch:  28, avg_PSNR: 25.714081, time: 353.5\n",
      "epoch:  29, avg_PSNR: 25.773887, time: 357.2\n",
      "epoch:  30, avg_PSNR: 25.835294, time: 354.5\n",
      "epoch:  31, avg_PSNR: 25.899172, time: 355.6\n",
      "epoch:  32, avg_PSNR: 25.955585, time: 356.7\n",
      "epoch:  33, avg_PSNR: 26.002655, time: 354.9\n",
      "epoch:  34, avg_PSNR: 26.059874, time: 359.4\n",
      "epoch:  35, avg_PSNR: 26.110772, time: 353.7\n",
      "epoch:  36, avg_PSNR: 26.148588, time: 354.9\n",
      "epoch:  37, avg_PSNR: 26.221326, time: 360.8\n",
      "epoch:  38, avg_PSNR: 26.247244, time: 354.2\n",
      "epoch:  39, avg_PSNR: 26.304573, time: 353.3\n",
      "epoch:  40, avg_PSNR: 26.340646, time: 357.8\n",
      "epoch:  41, avg_PSNR: 26.394346, time: 353.0\n",
      "epoch:  42, avg_PSNR: 26.437797, time: 356.9\n",
      "epoch:  43, avg_PSNR: 26.465969, time: 353.4\n",
      "epoch:  44, avg_PSNR: 26.514532, time: 352.4\n",
      "epoch:  45, avg_PSNR: 26.530979, time: 353.1\n",
      "epoch:  46, avg_PSNR: 26.581894, time: 357.5\n",
      "epoch:  47, avg_PSNR: 26.629975, time: 352.2\n",
      "epoch:  48, avg_PSNR: 26.641109, time: 354.7\n",
      "epoch:  49, avg_PSNR: 26.688707, time: 334.8\n",
      "epoch:  50, avg_PSNR: 26.719015, time: 347.9\n",
      "epoch:  51, avg_PSNR: 26.743657, time: 352.7\n",
      "epoch:  52, avg_PSNR: 26.780623, time: 353.4\n",
      "epoch:  53, avg_PSNR: 26.825331, time: 357.0\n",
      "epoch:  54, avg_PSNR: 26.850931, time: 354.8\n",
      "epoch:  55, avg_PSNR: 26.865022, time: 359.4\n",
      "epoch:  56, avg_PSNR: 26.911154, time: 355.3\n",
      "epoch:  57, avg_PSNR: 26.916914, time: 359.6\n",
      "epoch:  58, avg_PSNR: 26.967192, time: 354.2\n",
      "epoch:  59, avg_PSNR: 26.977173, time: 345.8\n",
      "epoch:  60, avg_PSNR: 27.002937, time: 339.0\n",
      "epoch:  61, avg_PSNR: 27.039530, time: 339.0\n",
      "epoch:  62, avg_PSNR: 27.062414, time: 340.7\n",
      "epoch:  63, avg_PSNR: 27.079886, time: 339.5\n",
      "epoch:  64, avg_PSNR: 27.107080, time: 339.9\n",
      "epoch:  65, avg_PSNR: 27.127036, time: 337.5\n",
      "epoch:  66, avg_PSNR: 27.156938, time: 331.3\n",
      "epoch:  67, avg_PSNR: 27.177626, time: 330.9\n",
      "epoch:  68, avg_PSNR: 27.197021, time: 330.3\n",
      "epoch:  69, avg_PSNR: 27.212118, time: 330.2\n",
      "epoch:  70, avg_PSNR: 27.247761, time: 330.9\n",
      "epoch:  71, avg_PSNR: 27.285868, time: 329.8\n",
      "epoch:  72, avg_PSNR: 27.280380, time: 330.8\n",
      "epoch:  73, avg_PSNR: 27.307879, time: 321.0\n",
      "epoch:  74, avg_PSNR: 27.322008, time: 316.3\n",
      "epoch:  75, avg_PSNR: 27.355175, time: 315.8\n",
      "epoch:  76, avg_PSNR: 27.347589, time: 316.1\n",
      "epoch:  77, avg_PSNR: 27.389576, time: 315.4\n",
      "epoch:  78, avg_PSNR: 27.412700, time: 316.6\n",
      "epoch:  79, avg_PSNR: 27.412878, time: 316.1\n",
      "epoch:  80, avg_PSNR: 27.438736, time: 316.2\n",
      "epoch:  81, avg_PSNR: 27.459603, time: 315.5\n",
      "epoch:  82, avg_PSNR: 27.495446, time: 316.2\n",
      "epoch:  83, avg_PSNR: 27.493103, time: 315.8\n",
      "epoch:  84, avg_PSNR: 27.504901, time: 315.9\n",
      "epoch:  85, avg_PSNR: 27.534442, time: 316.2\n",
      "epoch:  86, avg_PSNR: 27.546006, time: 316.8\n",
      "epoch:  87, avg_PSNR: 27.554722, time: 315.8\n",
      "epoch:  88, avg_PSNR: 27.579486, time: 316.5\n",
      "epoch:  89, avg_PSNR: 27.604001, time: 315.4\n",
      "epoch:  90, avg_PSNR: 27.616894, time: 315.2\n",
      "epoch:  91, avg_PSNR: 27.627680, time: 314.8\n",
      "epoch:  92, avg_PSNR: 27.638089, time: 316.5\n",
      "epoch:  93, avg_PSNR: 27.650409, time: 314.7\n",
      "epoch:  94, avg_PSNR: 27.674096, time: 314.3\n",
      "epoch:  95, avg_PSNR: 27.675704, time: 316.3\n",
      "epoch:  96, avg_PSNR: 27.700859, time: 315.6\n",
      "epoch:  97, avg_PSNR: 27.716407, time: 318.3\n",
      "epoch:  98, avg_PSNR: 27.729039, time: 316.9\n",
      "epoch:  99, avg_PSNR: 27.736990, time: 319.8\n"
     ]
    }
   ],
   "source": [
    "batch_size=model.batch_size\n",
    "print('batch_size: {}'.format(batch_size))\n",
    "total_iter = mnist.train.num_examples // batch_size\n",
    "for epoch in range(100):\n",
    "    start_time=time.time()\n",
    "    avg_psnr = 0\n",
    "    for batch in range(total_iter):\n",
    "        trImg, _= mnist.train.next_batch(batch_size)\n",
    "        trImg = np.reshape(trImg, [-1, 28, 28, 1])\n",
    "        LRImg = toLR(trImg)\n",
    "        HRImg = trImg\n",
    "        _, loss = sess.run([optm, model.LOSS], feed_dict={model.LRImg:LRImg, model.HRImg: HRImg})\n",
    "        psnr = 20*np.log10(1./np.sqrt(loss))\n",
    "        print (\"\\r batch: {}/{} ({:.1f}%) psnr: {:.5f}\".format(\n",
    "            batch, total_iter, batch*100/total_iter, psnr) ,end=\"\")\n",
    "        avg_psnr+=psnr\n",
    "    print ('\\repoch: %3d, avg_PSNR: %4f, time: %.1f' %(epoch, avg_psnr/total_iter, time.time()-start_time))"
   ]
  },
  {
   "cell_type": "code",
   "execution_count": 12,
   "metadata": {
    "collapsed": false
   },
   "outputs": [
    {
     "data": {
      "text/plain": [
       "'checkpoints/MNIST_PS_01'"
      ]
     },
     "execution_count": 12,
     "metadata": {},
     "output_type": "execute_result"
    }
   ],
   "source": [
    "saver=tf.train.Saver()\n",
    "saver.save(sess, 'checkpoints/MNIST_PS_01')"
   ]
  },
  {
   "cell_type": "code",
   "execution_count": 12,
   "metadata": {
    "collapsed": false
   },
   "outputs": [
    {
     "name": "stderr",
     "output_type": "stream",
     "text": [
      "/usr/local/lib/python3.5/dist-packages/scipy/misc/pilutil.py:482: FutureWarning: Conversion of the second argument of issubdtype from `int` to `np.signedinteger` is deprecated. In future, it will be treated as `np.int64 == np.dtype(int).type`.\n",
      "  if issubdtype(ts, int):\n",
      "/usr/local/lib/python3.5/dist-packages/scipy/misc/pilutil.py:485: FutureWarning: Conversion of the second argument of issubdtype from `float` to `np.floating` is deprecated. In future, it will be treated as `np.float64 == np.dtype(float).type`.\n",
      "  elif issubdtype(type(size), float):\n"
     ]
    },
    {
     "data": {
      "text/plain": [
       "<matplotlib.image.AxesImage at 0x7f739dad4748>"
      ]
     },
     "execution_count": 12,
     "metadata": {},
     "output_type": "execute_result"
    },
    {
     "data": {
      "image/png": "[encoded data removed]",
      "text/plain": [
       "<matplotlib.figure.Figure at 0x7f739db5d0f0>"
      ]
     },
     "metadata": {},
     "output_type": "display_data"
    }
   ],
   "source": [
    "showimg = mnist.test.images[0:32,:]\n",
    "hrimg = np.reshape(showimg, [-1, 28, 28, 1])\n",
    "lrimg = toLR(hrimg)\n",
    "srimg=sess.run(model.out_layer, feed_dict={model.LRImg:lrimg})\n",
    "index=3\n",
    "\n",
    "plt.figure(figsize=[20,5])\n",
    "plt.subplot(1,3,1)\n",
    "plt.axis('off')\n",
    "plt.title('LR')\n",
    "plt.imshow(lrimg[index,:,:,0], cmap='gray')\n",
    "plt.subplot(1,3,2)\n",
    "plt.axis('off')\n",
    "plt.title('HR')\n",
    "plt.imshow(hrimg[index,:,:,0], cmap='gray')\n",
    "plt.subplot(1,3,3)\n",
    "plt.axis('off')\n",
    "plt.title('SR')\n",
    "plt.imshow(srimg[index,:,:,0], cmap='gray')\n"
   ]
  },
  {
   "cell_type": "code",
   "execution_count": 16,
   "metadata": {
    "collapsed": true
   },
   "outputs": [],
   "source": [
    "sess.close()"
   ]
  }
 ],
 "metadata": {
  "kernelspec": {
   "display_name": "Python 3",
   "language": "python",
   "name": "python3"
  },
  "language_info": {
   "codemirror_mode": {
    "name": "ipython",
    "version": 3
   },
   "file_extension": ".py",
   "mimetype": "text/x-python",
   "name": "python",
   "nbconvert_exporter": "python",
   "pygments_lexer": "ipython3",
   "version": "3.5.2"
  }
 },
 "nbformat": 4,
 "nbformat_minor": 2
}
