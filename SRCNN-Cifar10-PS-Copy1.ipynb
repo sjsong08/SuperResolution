{
 "cells": [
  {
   "cell_type": "code",
   "execution_count": 7,
   "metadata": {},
   "outputs": [
    {
     "name": "stdout",
     "output_type": "stream",
     "text": [
      "Training data set : 50000, Test data Set : 10000\n"
     ]
    }
   ],
   "source": [
    "import os, sys, time\n",
    "import numpy as np\n",
    "import scipy.ndimage, scipy.misc\n",
    "import matplotlib.pyplot as plt\n",
    "import pickle\n",
    "import tensorflow as tf\n",
    "slim = tf.contrib.slim\n",
    "\n",
    "os.environ[\"CUDA_DEVICE_ORDER\"]=\"PCI_BUS_ID\"\n",
    "os.environ[\"CUDA_VISIBLE_DEVICES\"]=\"2\"\n",
    "#os.environ[\"CUDA_VISIBLE_DEVICES\"]=\"0,1\"\n",
    "\n",
    "\n",
    "\n",
    "def unpickle(file):\n",
    "    with open(file, 'rb') as f:\n",
    "        data = pickle.load(f, encoding='latin1')\n",
    "        return data\n",
    "\n",
    "def load_cifar10_data(data_dir):\n",
    "    train_data = None\n",
    "    train_labels = []\n",
    "    \n",
    "    for i in range(1,6):\n",
    "        data_dic = unpickle(data_dir + \"/data_batch_{}\".format(i))\n",
    "        if i==1:\n",
    "            train_data = data_dic['data']\n",
    "        else:\n",
    "            train_data = np.vstack((train_data, data_dic['data']))\n",
    "        train_labels += data_dic['labels']\n",
    "    test_data_dic = unpickle(data_dir + \"/test_batch\")\n",
    "    test_data = test_data_dic['data']\n",
    "    test_labels = test_data_dic['labels']\n",
    "    \n",
    "    train_data = train_data.reshape((len(train_data), 3, 32, 32))\n",
    "    train_data = np.rollaxis(train_data, 1, 4)\n",
    "    train_labels = np.array(train_labels)\n",
    "    \n",
    "    test_data = test_data.reshape((len(test_data), 3, 32, 32))\n",
    "    test_data = np.rollaxis(test_data, 1, 4)\n",
    "    test_labels = np.array(test_labels)\n",
    "    \n",
    "    return train_data, train_labels, test_data, test_labels\n",
    "\n",
    "data_dir = '/ideaHome/Dropbox/SJ/ML/Cifar10/Data/cifar-10-batches-py'\n",
    "trImg, train_labels, teImg, test_labels = load_cifar10_data(data_dir)\n",
    "\n",
    "\n",
    "print(\"Training data set : %3d, Test data Set : %3d\" %(trImg.shape[0], teImg.shape[0]))"
   ]
  },
  {
   "cell_type": "code",
   "execution_count": 8,
   "metadata": {},
   "outputs": [],
   "source": [
    "def toLR(image, scale=2.):\n",
    "    if len(image.shape)==4:\n",
    "        num_sample = image.shape[0]\n",
    "        images = np.zeros([image.shape[0], int(image.shape[1]/scale), int(image.shape[2]/scale), image.shape[3]])\n",
    "        for i in range(num_sample):\n",
    "            images[i,:,:,:] = scipy.misc.imresize(image[i,:,:,:], 1/scale,'bicubic')\n",
    "        return images\n",
    "    else:\n",
    "        return scipy.misc.imresize(image, 1/scale, 'bicubic')\n",
    "    \n",
    "\n",
    "def Bicubic(image, scale=2):\n",
    "    if len(image.shape)==4:\n",
    "        bicImg = scipy.ndimage.interpolation.zoom(image, [1, scale, scale, 1], prefilter=False)\n",
    "    else:\n",
    "        bicImg = scipy.ndimage.interpolation.zoom(image, [scale,scale,1], prefilter=False)\n",
    "    return bicImg\n",
    "\n",
    "def _phase_shift(I, r):\n",
    "    # Helper function with main phase shift operation\n",
    "    bsize, a, b, c = I.get_shape().as_list()\n",
    "    X = tf.reshape(I, (-1, a, b, r, r))\n",
    "    X = tf.transpose(X, (0, 1, 2, 4, 3))  # bsize, a, b, 1, 1\n",
    "    X = tf.split(X, a, 1)  # a, [bsize, b, r, r]\n",
    "    X = tf.concat([tf.squeeze(x) for x in X], axis=2)  # bsize, b, a*r, r\n",
    "    X = tf.split(X, b, 1)  # b, [bsize, a*r, r]\n",
    "    X = tf.concat([tf.squeeze(x) for x in X], axis=2)  # bsize, a*r, b*r\n",
    "    return tf.reshape(X, (-1, a*r, b*r, 1))\n",
    "\n",
    "def PS(X, r, color=False):\n",
    "  # Main OP that you can arbitrarily use in you tensorflow code\n",
    "    if color:\n",
    "        Xc = tf.split(X,3,3) #(3, 3, X)\n",
    "        X = tf.concat([_phase_shift(x, r) for x in Xc], axis=3)\n",
    "    else:\n",
    "        X = _phase_shift(X, r)\n",
    "    return X"
   ]
  },
  {
   "cell_type": "code",
   "execution_count": 9,
   "metadata": {},
   "outputs": [],
   "source": [
    "class SRCNN(object):\n",
    "    def __init__(self, mode):\n",
    "        self.LR_dim = (16,16,3)\n",
    "        self.HR_dim = (32,32,3)\n",
    "        self.batch_size = 16\n",
    "        self.mode = mode\n",
    "\n",
    "        print('The model is generated')\n",
    "        \n",
    "    def model(self, img):\n",
    "        with slim.arg_scope([slim.conv2d], stride=[1,1], activation_fn = tf.nn.relu, padding='SAME',\n",
    "                                                   weights_initializer=tf.contrib.layers.xavier_initializer()):\n",
    "            self.layer1 = slim.conv2d(inputs=img, num_outputs=64, kernel_size=[9,9], scope='layer1')\n",
    "            self.layer2 = slim.conv2d(inputs=self.layer1, num_outputs=32, kernel_size=[1,1], scope='layer2')\n",
    "            \n",
    "            if self.mode == 'pixelshuffle':\n",
    "                self.layer2_5 = slim.conv2d(inputs=self.layer2, num_outputs=12, kernel_size=[5,5], scope='layer', activation_fn=None)\n",
    "                self.layer3 = PS(self.layer2_5, 2, True)\n",
    "            else:\n",
    "                self.layer3 = slim.conv2d(inputs=self.layer2, num_outputs=3, kernel_size=[5,5], scope='layer', activation_fn=None)\n",
    "                \n",
    "            out = self.layer3\n",
    "        return out\n",
    "    \n",
    "    def loss(self, SR, HR):\n",
    "        loss = tf.reduce_mean(tf.square(SR - HR))\n",
    "        return loss\n",
    "    \n",
    "    def build(self):\n",
    "        if self.mode == 'bicubic':\n",
    "            self.LRImg = tf.placeholder(tf.float32, [None, 32, 32, 3], 'LRImgBicubic')\n",
    "        elif self.mode == 'pixelshuffle':\n",
    "            self.LRImg = tf.placeholder(tf.float32, [None, 16, 16, 3], 'LRImgPixelShuffle')\n",
    "        else:\n",
    "            print ('undefined mode')\n",
    "        self.HRImg = tf.placeholder(tf.float32, [None, 32, 32, 3], 'HRImg')\n",
    "        self.SRImg = self.model(self.LRImg)\n",
    "        self.LOSS = self.loss(self.SRImg, self.HRImg)\n",
    "    \n",
    "    \n",
    "    \n",
    "    "
   ]
  },
  {
   "cell_type": "code",
   "execution_count": 10,
   "metadata": {},
   "outputs": [
    {
     "name": "stdout",
     "output_type": "stream",
     "text": [
      "The model is generated\n",
      "---------\n",
      "Variables: name (type shape) [size]\n",
      "---------\n",
      "layer1/weights:0 (float32_ref 9x9x3x64) [15552, bytes: 62208]\n",
      "layer1/biases:0 (float32_ref 64) [64, bytes: 256]\n",
      "layer2/weights:0 (float32_ref 1x1x64x32) [2048, bytes: 8192]\n",
      "layer2/biases:0 (float32_ref 32) [32, bytes: 128]\n",
      "layer/weights:0 (float32_ref 5x5x32x12) [9600, bytes: 38400]\n",
      "layer/biases:0 (float32_ref 12) [12, bytes: 48]\n",
      "Total size of variables: 27308\n",
      "Total bytes of variables: 109232\n"
     ]
    },
    {
     "data": {
      "text/plain": [
       "(27308, 109232)"
      ]
     },
     "execution_count": 10,
     "metadata": {},
     "output_type": "execute_result"
    }
   ],
   "source": [
    "tf.reset_default_graph()\n",
    "model = SRCNN('pixelshuffle')\n",
    "model.build()\n",
    "\n",
    "t_vars = tf.trainable_variables()\n",
    "slim.model_analyzer.analyze_vars(t_vars, print_info=True)"
   ]
  },
  {
   "cell_type": "code",
   "execution_count": 11,
   "metadata": {},
   "outputs": [],
   "source": [
    "optm = tf.train.AdamOptimizer(learning_rate=1e-3).minimize(model.LOSS)"
   ]
  },
  {
   "cell_type": "code",
   "execution_count": 12,
   "metadata": {},
   "outputs": [],
   "source": [
    "config = tf.ConfigProto()\n",
    "config.gpu_options.allow_growth = True\n",
    "sess = tf.Session(config=config) \n",
    "sess.run(tf.global_variables_initializer())"
   ]
  },
  {
   "cell_type": "code",
   "execution_count": 16,
   "metadata": {},
   "outputs": [
    {
     "name": "stderr",
     "output_type": "stream",
     "text": [
      "/usr/local/lib/python3.5/dist-packages/scipy/misc/pilutil.py:482: FutureWarning: Conversion of the second argument of issubdtype from `int` to `np.signedinteger` is deprecated. In future, it will be treated as `np.int64 == np.dtype(int).type`.\n",
      "  if issubdtype(ts, int):\n",
      "/usr/local/lib/python3.5/dist-packages/scipy/misc/pilutil.py:485: FutureWarning: Conversion of the second argument of issubdtype from `float` to `np.floating` is deprecated. In future, it will be treated as `np.float64 == np.dtype(float).type`.\n",
      "  elif issubdtype(type(size), float):\n"
     ]
    },
    {
     "name": "stdout",
     "output_type": "stream",
     "text": [
      "Epoch:   1, avg_PSNR: 27.089, time: 27.1               \n",
      "Epoch:   2, avg_PSNR: 27.086, time: 27.3               \n",
      "Epoch:   3, avg_PSNR: 27.099, time: 27.0               \n",
      "Epoch:   4, avg_PSNR: 27.094, time: 27.1               \n",
      "Epoch:   5, avg_PSNR: 27.089, time: 27.0               \n",
      "Epoch:   6, avg_PSNR: 27.094, time: 27.3               \n",
      "Epoch:   7, avg_PSNR: 27.104, time: 27.3               \n",
      "Epoch:   8, avg_PSNR: 27.100, time: 27.3               \n",
      "Epoch:   9, avg_PSNR: 27.113, time: 26.9               \n",
      "Epoch:  10, avg_PSNR: 27.106, time: 27.2               \n",
      "Epoch:  11, avg_PSNR: 27.110, time: 27.2               \n",
      "Epoch:  12, avg_PSNR: 27.109, time: 27.1               \n",
      "Epoch:  13, avg_PSNR: 27.113, time: 27.2               \n",
      "Epoch:  14, avg_PSNR: 27.109, time: 27.1               \n",
      "Epoch:  15, avg_PSNR: 27.122, time: 27.4               \n",
      "Epoch:  16, avg_PSNR: 27.121, time: 26.9               \n",
      "Epoch:  17, avg_PSNR: 27.118, time: 27.0               \n",
      "Epoch:  18, avg_PSNR: 27.130, time: 27.1               \n",
      "Epoch:  19, avg_PSNR: 27.129, time: 27.2               \n",
      "Epoch:  20, avg_PSNR: 27.134, time: 27.3               \n",
      "Epoch:  21, avg_PSNR: 27.140, time: 27.1               \n",
      "Epoch:  22, avg_PSNR: 27.139, time: 27.1               \n",
      "Epoch:  23, avg_PSNR: 27.144, time: 27.1               \n",
      "Epoch:  24, avg_PSNR: 27.149, time: 27.3               \n",
      "Epoch:  25, avg_PSNR: 27.151, time: 27.0               \n",
      "Epoch:  26, avg_PSNR: 27.154, time: 27.3               \n",
      "Epoch:  27, avg_PSNR: 27.158, time: 27.3               \n",
      "Epoch:  28, avg_PSNR: 27.160, time: 27.4               \n",
      "Epoch:  29, avg_PSNR: 27.164, time: 27.3               \n",
      "Epoch:  30, avg_PSNR: 27.165, time: 27.3               \n",
      "Epoch:  31, avg_PSNR: 27.160, time: 27.3               \n",
      "Epoch:  32, avg_PSNR: 27.167, time: 27.0               \n",
      "Epoch:  33, avg_PSNR: 27.166, time: 27.4               \n",
      "Epoch:  34, avg_PSNR: 27.171, time: 27.2               \n",
      "Epoch:  35, avg_PSNR: 27.175, time: 27.1               \n",
      "Epoch:  36, avg_PSNR: 27.175, time: 27.1               \n",
      "Epoch:  37, avg_PSNR: 27.168, time: 27.3               \n",
      "Epoch:  38, avg_PSNR: 27.171, time: 27.3               \n",
      "Epoch:  39, avg_PSNR: 27.174, time: 27.1               \n",
      "Epoch:  40, avg_PSNR: 27.171, time: 27.0               \n",
      "Epoch:  41, avg_PSNR: 27.173, time: 26.9               \n",
      "Epoch:  42, avg_PSNR: 27.177, time: 27.2               \n",
      "Epoch:  43, avg_PSNR: 27.174, time: 27.1               \n",
      "Epoch:  44, avg_PSNR: 27.182, time: 27.2               \n",
      "Epoch:  45, avg_PSNR: 27.175, time: 27.0               \n",
      "Epoch:  46, avg_PSNR: 27.180, time: 27.1               \n",
      "Epoch:  47, avg_PSNR: 27.182, time: 27.3               \n",
      "Epoch:  48, avg_PSNR: 27.178, time: 27.0               \n",
      "Epoch:  49, avg_PSNR: 27.175, time: 27.3               \n",
      "Epoch:  50, avg_PSNR: 27.191, time: 27.3               \n",
      "Epoch:  51, avg_PSNR: 27.184, time: 27.3               \n",
      "Epoch:  52, avg_PSNR: 27.189, time: 27.5               \n",
      "Epoch:  53, avg_PSNR: 27.180, time: 27.2               \n",
      "Epoch:  54, avg_PSNR: 27.197, time: 27.1               \n",
      "Epoch:  55, avg_PSNR: 27.186, time: 27.1               \n",
      "Epoch:  56, avg_PSNR: 27.188, time: 27.2               \n",
      "Epoch:  57, avg_PSNR: 27.187, time: 27.1               \n",
      "Epoch:  58, avg_PSNR: 27.194, time: 27.0               \n",
      "Epoch:  59, avg_PSNR: 27.193, time: 27.2               \n",
      "Epoch:  60, avg_PSNR: 27.193, time: 27.0               \n",
      "Epoch:  61, avg_PSNR: 27.200, time: 27.3               \n",
      "Epoch:  62, avg_PSNR: 27.198, time: 26.8               \n",
      "Epoch:  63, avg_PSNR: 27.201, time: 27.1               \n",
      "Epoch:  64, avg_PSNR: 27.190, time: 27.2               \n",
      "Epoch:  65, avg_PSNR: 27.201, time: 27.2               \n",
      "Epoch:  66, avg_PSNR: 27.205, time: 26.9               \n",
      "Epoch:  67, avg_PSNR: 27.196, time: 27.2               \n",
      "Epoch:  68, avg_PSNR: 27.200, time: 27.2               \n",
      "Epoch:  69, avg_PSNR: 27.195, time: 27.2               \n",
      "Epoch:  70, avg_PSNR: 27.199, time: 27.3               \n",
      "Epoch:  71, avg_PSNR: 27.193, time: 27.0               \n",
      "Epoch:  72, avg_PSNR: 27.194, time: 27.3               \n",
      "Epoch:  73, avg_PSNR: 27.210, time: 27.2               \n",
      "Epoch:  74, avg_PSNR: 27.200, time: 27.3               \n",
      "Epoch:  75, avg_PSNR: 27.207, time: 27.3               \n",
      "Epoch:  76, avg_PSNR: 27.202, time: 27.1               \n",
      "Epoch:  77, avg_PSNR: 27.203, time: 27.3               \n",
      "Epoch:  78, avg_PSNR: 27.198, time: 27.1               \n",
      "Epoch:  79, avg_PSNR: 27.212, time: 27.2               \n",
      "Epoch:  80, avg_PSNR: 27.207, time: 27.0               \n",
      "Epoch:  81, avg_PSNR: 27.198, time: 27.1               \n",
      "Epoch:  82, avg_PSNR: 27.212, time: 27.3               \n",
      "Epoch:  83, avg_PSNR: 27.208, time: 27.1               \n",
      "Epoch:  84, avg_PSNR: 27.205, time: 27.3               \n",
      "Epoch:  85, avg_PSNR: 27.199, time: 27.1               \n",
      "Epoch:  86, avg_PSNR: 27.206, time: 27.1               \n",
      "Epoch:  87, avg_PSNR: 27.199, time: 27.0               \n",
      "Epoch:  88, avg_PSNR: 27.204, time: 27.3               \n",
      "Epoch:  89, avg_PSNR: 27.204, time: 27.1               \n",
      "Epoch:  90, avg_PSNR: 27.192, time: 27.3               \n",
      "Epoch:  91, avg_PSNR: 27.203, time: 27.3               \n",
      "Epoch:  92, avg_PSNR: 27.197, time: 27.3               \n",
      "Epoch:  93, avg_PSNR: 27.202, time: 26.9               \n",
      "Epoch:  94, avg_PSNR: 27.198, time: 27.3               \n",
      "Epoch:  95, avg_PSNR: 27.199, time: 27.3               \n",
      "Epoch:  96, avg_PSNR: 27.194, time: 27.3               \n",
      "Epoch:  97, avg_PSNR: 27.195, time: 27.2               \n",
      "Epoch:  98, avg_PSNR: 27.198, time: 27.3               \n",
      "Epoch:  99, avg_PSNR: 27.197, time: 27.0               \n",
      "Epoch: 100, avg_PSNR: 27.203, time: 27.0               \n"
     ]
    }
   ],
   "source": [
    "batch_size=16\n",
    "total_iter = int(trImg.shape[0]/batch_size-1)\n",
    "for epoch in range(100):\n",
    "    avg_psnr = 0\n",
    "    start_time = time.time()\n",
    "    for batch in range(total_iter):\n",
    "        LRImg = toLR(trImg[batch:batch + batch_size,:,:,:])\n",
    "        HRImg = trImg[batch:batch+batch_size,:,:,:]\n",
    "        _, loss = sess.run([optm, model.LOSS], feed_dict={model.LRImg:LRImg, model.HRImg: HRImg})\n",
    "        psnr = 20*np.log10(255./np.sqrt(loss))\n",
    "        avg_psnr+=psnr\n",
    "        #print \"\\rIteration: {}/{} ({:.1f}%) psnr: {:.4f}\".format(batch, total_iter, batch*100/total_iter, psnr),\n",
    "        print(\"\\rIteration: {}/{} ({:.2f}%) psnr: {:.4f}\".format(batch, total_iter, batch*100/total_iter, psnr), end=\"\")  #Python3\n",
    "    \n",
    "    print ('\\rEpoch: %3d, avg_PSNR: %.3f, time: %.1f               ' %(epoch+1, avg_psnr/total_iter, time.time() - start_time))"
   ]
  },
  {
   "cell_type": "markdown",
   "metadata": {},
   "source": [
    "# Reconstructed Sample Image"
   ]
  },
  {
   "cell_type": "code",
   "execution_count": 39,
   "metadata": {},
   "outputs": [
    {
     "data": {
      "text/plain": [
       "<matplotlib.image.AxesImage at 0x7f1dd2fbd490>"
      ]
     },
     "execution_count": 39,
     "metadata": {},
     "output_type": "execute_result"
    },
    {
     "data": {
      "image/png": "[encoded data removed]",
      "text/plain": [
       "<matplotlib.figure.Figure at 0x7f1de5636990>"
      ]
     },
     "metadata": {},
     "output_type": "display_data"
    }
   ],
   "source": [
    "plt.imshow(LRImg[0,:,:,:])"
   ]
  },
  {
   "cell_type": "code",
   "execution_count": 40,
   "metadata": {},
   "outputs": [
    {
     "data": {
      "text/plain": [
       "<matplotlib.image.AxesImage at 0x7f1dd2f47110>"
      ]
     },
     "execution_count": 40,
     "metadata": {},
     "output_type": "execute_result"
    },
    {
     "data": {
      "image/png": "[encoded data removed]",
      "text/plain": [
       "<matplotlib.figure.Figure at 0x7f1de549e110>"
      ]
     },
     "metadata": {},
     "output_type": "display_data"
    }
   ],
   "source": [
    "plt.imshow(HRImg[0,:,:,:])"
   ]
  },
  {
   "cell_type": "code",
   "execution_count": 19,
   "metadata": {
    "scrolled": false
   },
   "outputs": [],
   "source": [
    "samimg = sess.run(model.layer3, feed_dict={model.LRImg:LRImg[0:2,:,:,:]})"
   ]
  },
  {
   "cell_type": "code",
   "execution_count": 20,
   "metadata": {},
   "outputs": [
    {
     "data": {
      "text/plain": [
       "(2, 32, 32, 3)"
      ]
     },
     "execution_count": 20,
     "metadata": {},
     "output_type": "execute_result"
    }
   ],
   "source": [
    "samimg.shape"
   ]
  },
  {
   "cell_type": "code",
   "execution_count": 21,
   "metadata": {},
   "outputs": [
    {
     "data": {
      "text/plain": [
       "dtype('float64')"
      ]
     },
     "execution_count": 21,
     "metadata": {},
     "output_type": "execute_result"
    }
   ],
   "source": [
    "LRImg.dtype"
   ]
  }
 ],
 "metadata": {
  "kernelspec": {
   "display_name": "Python 3",
   "language": "python",
   "name": "python3"
  },
  "language_info": {
   "codemirror_mode": {
    "name": "ipython",
    "version": 3
   },
   "file_extension": ".py",
   "mimetype": "text/x-python",
   "name": "python",
   "nbconvert_exporter": "python",
   "pygments_lexer": "ipython3",
   "version": "3.5.2"
  }
 },
 "nbformat": 4,
 "nbformat_minor": 2
}
