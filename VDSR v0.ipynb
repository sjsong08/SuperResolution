{
 "cells": [
  {
   "cell_type": "markdown",
   "metadata": {},
   "source": [
    "# MarkDown\n",
    "## test  \n",
    "\n",
    "1. what is this\n",
    "2. ghahaha\n",
    "\n",
    "  \n",
    "* How about this  \n",
    "\n",
    "---\n",
    "- this?\n",
    "\n",
    "A | B\n",
    "----|----\n",
    "c|d\n",
    "FEWEF|aweflkwfje\n",
    "awlkfjelkwajf|jlewfjkawlkfj\n",
    "\n",
    "\n",
    "____\n",
    "\n",
    "\n",
    ">AWEFWEA  \n",
    "BAWEF  \n",
    "\n",
    "\n",
    "$$ x=5 \\\\  y=6$$\n",
    "\n"
   ]
  },
  {
   "cell_type": "code",
   "execution_count": 7,
   "metadata": {},
   "outputs": [
    {
     "ename": "ImportError",
     "evalue": "No module named imageio",
     "output_type": "error",
     "traceback": [
      "\u001b[0;31m---------------------------------------------------------------------------\u001b[0m",
      "\u001b[0;31mImportError\u001b[0m                               Traceback (most recent call last)",
      "\u001b[0;32m<ipython-input-7-e76395454ae8>\u001b[0m in \u001b[0;36m<module>\u001b[0;34m()\u001b[0m\n\u001b[1;32m      2\u001b[0m \u001b[0;32mimport\u001b[0m \u001b[0mtensorflow\u001b[0m \u001b[0;32mas\u001b[0m \u001b[0mtf\u001b[0m\u001b[0;34m\u001b[0m\u001b[0m\n\u001b[1;32m      3\u001b[0m \u001b[0;32mimport\u001b[0m \u001b[0mos\u001b[0m\u001b[0;34m\u001b[0m\u001b[0m\n\u001b[0;32m----> 4\u001b[0;31m \u001b[0;32mimport\u001b[0m \u001b[0mimageio\u001b[0m\u001b[0;34m\u001b[0m\u001b[0m\n\u001b[0m\u001b[1;32m      5\u001b[0m \u001b[0;32mimport\u001b[0m \u001b[0mscipy\u001b[0m\u001b[0;34m.\u001b[0m\u001b[0mndimage\u001b[0m\u001b[0;34m\u001b[0m\u001b[0m\n\u001b[1;32m      6\u001b[0m \u001b[0;32mimport\u001b[0m \u001b[0mscipy\u001b[0m\u001b[0;34m.\u001b[0m\u001b[0mmisc\u001b[0m\u001b[0;34m\u001b[0m\u001b[0m\n",
      "\u001b[0;31mImportError\u001b[0m: No module named imageio"
     ]
    }
   ],
   "source": [
    "import numpy as np\n",
    "import tensorflow as tf\n",
    "import os\n",
    "import imageio\n",
    "import scipy.ndimage\n",
    "import scipy.misc\n",
    "import matplotlib.pyplot as plt\n",
    "%matplotlib inline"
   ]
  },
  {
   "cell_type": "code",
   "execution_count": 2,
   "metadata": {},
   "outputs": [],
   "source": [
    "os.environ[\"CUDA_DEVICE_ORDER\"]=\"PCI_BUS_ID\"\n",
    "os.environ[\"CUDA_VISIBLE_DEVICES\"]=\"3\"\n",
    "image_x = 1920\n",
    "image_y = 1080"
   ]
  },
  {
   "cell_type": "markdown",
   "metadata": {},
   "source": [
    "# Dataset\n"
   ]
  },
  {
   "cell_type": "code",
   "execution_count": 3,
   "metadata": {},
   "outputs": [],
   "source": [
    "path = 'images/train_bicubic_x2/'\n",
    "scale=2"
   ]
  },
  {
   "cell_type": "code",
   "execution_count": 5,
   "metadata": {},
   "outputs": [
    {
     "ename": "AttributeError",
     "evalue": "'module' object has no attribute 'imageio'",
     "output_type": "error",
     "traceback": [
      "\u001b[0;31m---------------------------------------------------------------------------\u001b[0m",
      "\u001b[0;31mAttributeError\u001b[0m                            Traceback (most recent call last)",
      "\u001b[0;32m<ipython-input-5-512672c125fa>\u001b[0m in \u001b[0;36m<module>\u001b[0;34m()\u001b[0m\n\u001b[0;32m----> 1\u001b[0;31m \u001b[0mscipy\u001b[0m\u001b[0;34m.\u001b[0m\u001b[0mimageio\u001b[0m\u001b[0;34m.\u001b[0m\u001b[0mimread\u001b[0m\u001b[0;34m\u001b[0m\u001b[0m\n\u001b[0m",
      "\u001b[0;31mAttributeError\u001b[0m: 'module' object has no attribute 'imageio'"
     ]
    }
   ],
   "source": []
  },
  {
   "cell_type": "code",
   "execution_count": 5,
   "metadata": {},
   "outputs": [],
   "source": [
    "def imread(path, index, scale=1, gray=True, is_train=False):\n",
    "    if gray:\n",
    "        image = np.zeros([len(index), image_y, image_x, 1])\n",
    "        cnt=0\n",
    "        for i in (index):\n",
    "            if is_train:\n",
    "                img = scipy.misc.imread(path+str(i).zfill(4)+'x'+str(scale)+'.png', flatten=True, mode='YCbCr').astype(np.float32)/255.\n",
    "            else:\n",
    "                img = scipy.misc.imread(path+str(i).zfill(4)+'.png', flatten=True, mode='YCbCr').astype(np.float32)/255.\n",
    "            if img.shape[1]<img.shape[0]:\n",
    "                img=img.T\n",
    "            if is_train and img.shape[0]>=540:\n",
    "                image[cnt,:,:,0]=preproc(img[:int(image_y/scale),:int(image_x/scale)], scale)\n",
    "                cnt+=1\n",
    "            elif is_train==False and img.shape[0]>=1080:\n",
    "                image[cnt,:,:,0]=img[:int(image_y/scale),:int(image_x/scale)]\n",
    "                cnt+=1\n",
    "            \n",
    "        return image[:cnt,:,:,:]\n",
    "    else:\n",
    "        image = np.zeros([len(index), image_y, image_x, 3])\n",
    "        cnt=0\n",
    "        for i in (index):\n",
    "            if is_train:\n",
    "                img = scipy.misc.imread(path+str(i).zfill(4)+'x'+str(scale)+'.png', mode='YCbCr').astype(np.float32)/255.\n",
    "            else:\n",
    "                img = scipy.misc.imread(path+str(i).zfill(4)+'.png', mode='YCbCr').astype(np.float32)/255.\n",
    "            if img.shape[1]<img.shape[0]:\n",
    "                img1=img[:,:,0].T\n",
    "                img2=img[:,:,1].T\n",
    "                img3=img[:,:,2].T\n",
    "                img = np.stack([img1,img2,img3], axis=2)\n",
    "            if is_train:\n",
    "                image[cnt,:,:,:]=preproc(img[:int(image_y/scale),:int(image_x/scale),:],scale)\n",
    "            else:\n",
    "                image[cnt,:,:,:]=img[:int(image_y/scale),:int(image_x/scale),:]\n",
    "            cnt+=1\n",
    "        return image"
   ]
  },
  {
   "cell_type": "code",
   "execution_count": 6,
   "metadata": {},
   "outputs": [],
   "source": [
    "def preproc(image, scale=2, gray=True):\n",
    "    if gray:\n",
    "        return scipy.ndimage.interpolation.zoom(image, (scale/1.), prefilter=False)\n",
    "    else:\n",
    "        image1 = scipy.ndimage.interpolation.zoom(image[:,:,0], (scale/1.), prefilter=False)\n",
    "        image2 = scipy.ndimage.interpolation.zoom(image[:,:,1], (scale/1.), prefilter=False)\n",
    "        image3 = scipy.ndimage.interpolation.zoom(image[:,:,2], (scale/1.), prefilter=False)\n",
    "        imageA = np.stack([image1, image2, image3], axis=2)\n",
    "        return imageA\n",
    "    "
   ]
  },
  {
   "cell_type": "code",
   "execution_count": 7,
   "metadata": {},
   "outputs": [],
   "source": [
    "def imsave(image, path):\n",
    "    return scipy.misc.imsave(path, image)"
   ]
  },
  {
   "cell_type": "markdown",
   "metadata": {},
   "source": [
    "# Networks"
   ]
  },
  {
   "cell_type": "code",
   "execution_count": 8,
   "metadata": {},
   "outputs": [],
   "source": [
    "tf.reset_default_graph()\n",
    "device = \"/device:GPU:0\""
   ]
  },
  {
   "cell_type": "code",
   "execution_count": 9,
   "metadata": {},
   "outputs": [],
   "source": [
    "gray=True\n",
    "epoch_size = 1000\n",
    "batch_size = 1\n",
    "total_iter = 800/batch_size\n",
    "\n",
    "if gray==True:\n",
    "    c_dim=1\n",
    "else:\n",
    "    c_dim=3\n",
    "    \n",
    "learning_rate = 1e-3\n",
    "\n",
    "        \n",
    "with tf.device(device):\n",
    "    X = tf.placeholder(tf.float32, [None, image_y, image_x, c_dim], name='input')\n",
    "    Y = tf.placeholder(tf.float32, [None, image_y, image_x, c_dim], name='output')\n",
    "\n",
    "    weights = {\n",
    "        'w1' : tf.get_variable('w1',shape=[3,3,1,64],dtype=tf.float32, initializer=tf.contrib.layers.xavier_initializer_conv2d()),\n",
    "        #'w2' : tf.get_variable('w2',shape=[3,3,64,64],dtype=tf.float32, initializer=tf.contrib.layers.xavier_initializer_conv2d()),\n",
    "        #'w3' : tf.get_variable('w3',shape=[3,3,64,64],dtype=tf.float32, initializer=tf.contrib.layers.xavier_initializer_conv2d()), \n",
    "        #'w4' : tf.get_variable('w4',shape=[3,3,64,64],dtype=tf.float32, initializer=tf.contrib.layers.xavier_initializer_conv2d()),\n",
    "        #'w5' : tf.get_variable('w5',shape=[3,3,64,64],dtype=tf.float32, initializer=tf.contrib.layers.xavier_initializer_conv2d()),\n",
    "        #'w6' : tf.get_variable('w6',shape=[3,3,64,64],dtype=tf.float32, initializer=tf.contrib.layers.xavier_initializer_conv2d()),\n",
    "        #'w7' : tf.get_variable('w7',shape=[3,3,64,64],dtype=tf.float32, initializer=tf.contrib.layers.xavier_initializer_conv2d()),\n",
    "        #'w8' : tf.get_variable('w8',shape=[3,3,64,64],dtype=tf.float32, initializer=tf.contrib.layers.xavier_initializer_conv2d()),\n",
    "        #'w9' : tf.get_variable('w9',shape=[3,3,64,64],dtype=tf.float32, initializer=tf.contrib.layers.xavier_initializer_conv2d()),\n",
    "        #'w10' : tf.get_variable('w10',shape=[3,3,64,64],dtype=tf.float32, initializer=tf.contrib.layers.xavier_initializer_conv2d()),\n",
    "        #'w11' : tf.get_variable('w11',shape=[3,3,64,64],dtype=tf.float32, initializer=tf.contrib.layers.xavier_initializer_conv2d()),\n",
    "        #'w12' : tf.get_variable('w12',shape=[3,3,64,64],dtype=tf.float32, initializer=tf.contrib.layers.xavier_initializer_conv2d()),\n",
    "        #'w13' : tf.get_variable('w13',shape=[3,3,64,64],dtype=tf.float32, initializer=tf.contrib.layers.xavier_initializer_conv2d()),\n",
    "        #'w14' : tf.get_variable('w14',shape=[3,3,64,64],dtype=tf.float32, initializer=tf.contrib.layers.xavier_initializer_conv2d()),\n",
    "        #'w15' : tf.get_variable('w15',shape=[3,3,64,64],dtype=tf.float32, initializer=tf.contrib.layers.xavier_initializer_conv2d()),\n",
    "        #'w16' : tf.get_variable('w16',shape=[3,3,64,64],dtype=tf.float32, initializer=tf.contrib.layers.xavier_initializer_conv2d()),           \n",
    "        #'w17' : tf.get_variable('w17',shape=[3,3,64,64],dtype=tf.float32, initializer=tf.contrib.layers.xavier_initializer_conv2d()),\n",
    "        #'w18' : tf.get_variable('w18',shape=[3,3,64,64],dtype=tf.float32, initializer=tf.contrib.layers.xavier_initializer_conv2d()),\n",
    "        #'w19' : tf.get_variable('w19',shape=[3,3,64,64],dtype=tf.float32, initializer=tf.contrib.layers.xavier_initializer_conv2d()),\n",
    "        'w20' : tf.get_variable('w20',shape=[3,3,64,1],dtype=tf.float32, initializer=tf.contrib.layers.xavier_initializer_conv2d())\n",
    "    }\n",
    "    biases = {\n",
    "        'b1' : tf.get_variable('b1',shape=[64],dtype=tf.float32, initializer=tf.contrib.layers.xavier_initializer_conv2d()),\n",
    "        #'b2' : tf.get_variable('b2',shape=[64],dtype=tf.float32, initializer=tf.contrib.layers.xavier_initializer_conv2d()),\n",
    "        #'b3' : tf.get_variable('b3',shape=[64],dtype=tf.float32, initializer=tf.contrib.layers.xavier_initializer_conv2d()),\n",
    "        #'b4' : tf.get_variable('b4',shape=[64],dtype=tf.float32, initializer=tf.contrib.layers.xavier_initializer_conv2d()),\n",
    "        #'b5' : tf.get_variable('b5',shape=[64],dtype=tf.float32, initializer=tf.contrib.layers.xavier_initializer_conv2d()),\n",
    "        #'b6' : tf.get_variable('b6',shape=[64],dtype=tf.float32, initializer=tf.contrib.layers.xavier_initializer_conv2d()),\n",
    "        #'b7' : tf.get_variable('b7',shape=[64],dtype=tf.float32, initializer=tf.contrib.layers.xavier_initializer_conv2d()),\n",
    "        #'b8' : tf.get_variable('b8',shape=[64],dtype=tf.float32, initializer=tf.contrib.layers.xavier_initializer_conv2d()),\n",
    "        #'b9' : tf.get_variable('b9',shape=[64],dtype=tf.float32, initializer=tf.contrib.layers.xavier_initializer_conv2d()),\n",
    "        #'b10' : tf.get_variable('b10',shape=[64],dtype=tf.float32, initializer=tf.contrib.layers.xavier_initializer_conv2d()),\n",
    "        #'b11' : tf.get_variable('b11',shape=[64],dtype=tf.float32, initializer=tf.contrib.layers.xavier_initializer_conv2d()),\n",
    "        #'b12' : tf.get_variable('b12',shape=[64],dtype=tf.float32, initializer=tf.contrib.layers.xavier_initializer_conv2d()),\n",
    "        #'b13' : tf.get_variable('b13',shape=[64],dtype=tf.float32, initializer=tf.contrib.layers.xavier_initializer_conv2d()),\n",
    "        #'b14' : tf.get_variable('b14',shape=[64],dtype=tf.float32, initializer=tf.contrib.layers.xavier_initializer_conv2d()),\n",
    "        #'b15' : tf.get_variable('b15',shape=[64],dtype=tf.float32, initializer=tf.contrib.layers.xavier_initializer_conv2d()),\n",
    "        #'b16' : tf.get_variable('b16',shape=[64],dtype=tf.float32, initializer=tf.contrib.layers.xavier_initializer_conv2d()),\n",
    "        #'b17' : tf.get_variable('b17',shape=[64],dtype=tf.float32, initializer=tf.contrib.layers.xavier_initializer_conv2d()),\n",
    "        #'b18' : tf.get_variable('b18',shape=[64],dtype=tf.float32, initializer=tf.contrib.layers.xavier_initializer_conv2d()),\n",
    "        #'b19' : tf.get_variable('b19',shape=[64],dtype=tf.float32, initializer=tf.contrib.layers.xavier_initializer_conv2d()),\n",
    "        'b20' : tf.get_variable('b20',shape=[1],dtype=tf.float32, initializer=tf.contrib.layers.xavier_initializer_conv2d())\n",
    "    }"
   ]
  },
  {
   "cell_type": "code",
   "execution_count": 10,
   "metadata": {},
   "outputs": [],
   "source": [
    "with tf.device(device):\n",
    "    conv1 = tf.nn.relu(tf.nn.conv2d(X, weights['w1'], strides=[1,1,1,1], padding='SAME')+biases['b1'])\n",
    "    #conv2 = tf.nn.relu(tf.nn.conv2d(conv1, weights['w2'], strides=[1,1,1,1], padding='SAME')+biases['b2'])\n",
    "    #conv3 = tf.nn.relu(tf.nn.conv2d(conv2, weights['w3'], strides=[1,1,1,1], padding='SAME')+biases['b3'])\n",
    "    #conv4 = tf.nn.relu(tf.nn.conv2d(conv3, weights['w4'], strides=[1,1,1,1], padding='SAME')+biases['b4'])\n",
    "    #conv5 = tf.nn.relu(tf.nn.conv2d(conv4, weights['w5'], strides=[1,1,1,1], padding='SAME')+biases['b5'])\n",
    "    #conv6 = tf.nn.relu(tf.nn.conv2d(conv5, weights['w6'], strides=[1,1,1,1], padding='SAME')+biases['b6'])\n",
    "    #conv7 = tf.nn.relu(tf.nn.conv2d(conv6, weights['w7'], strides=[1,1,1,1], padding='SAME')+biases['b7'])\n",
    "    #conv8 = tf.nn.relu(tf.nn.conv2d(conv7, weights['w8'], strides=[1,1,1,1], padding='SAME')+biases['b8'])\n",
    "    #conv9 = tf.nn.relu(tf.nn.conv2d(conv8, weights['w9'], strides=[1,1,1,1], padding='SAME')+biases['b9'])\n",
    "    #conv10 = tf.nn.relu(tf.nn.conv2d(conv9, weights['w10'], strides=[1,1,1,1], padding='SAME')+biases['b10'])\n",
    "    #conv11 = tf.nn.relu(tf.nn.conv2d(conv10, weights['w11'], strides=[1,1,1,1], padding='SAME')+biases['b11'])\n",
    "    #conv12 = tf.nn.relu(tf.nn.conv2d(conv11, weights['w12'], strides=[1,1,1,1], padding='SAME')+biases['b12'])\n",
    "    #conv13 = tf.nn.relu(tf.nn.conv2d(conv12, weights['w13'], strides=[1,1,1,1], padding='SAME')+biases['b13'])\n",
    "    #conv14 = tf.nn.relu(tf.nn.conv2d(conv13, weights['w14'], strides=[1,1,1,1], padding='SAME')+biases['b14'])\n",
    "    #conv15 = tf.nn.relu(tf.nn.conv2d(conv14, weights['w15'], strides=[1,1,1,1], padding='SAME')+biases['b15'])\n",
    "    #conv16 = tf.nn.relu(tf.nn.conv2d(conv15, weights['w16'], strides=[1,1,1,1], padding='SAME')+biases['b16'])\n",
    "    #conv17 = tf.nn.relu(tf.nn.conv2d(conv16, weights['w17'], strides=[1,1,1,1], padding='SAME')+biases['b17'])\n",
    "    #conv18 = tf.nn.relu(tf.nn.conv2d(conv17, weights['w18'], strides=[1,1,1,1], padding='SAME')+biases['b18'])\n",
    "    #conv19 = tf.nn.relu(tf.nn.conv2d(conv18, weights['w19'], strides=[1,1,1,1], padding='SAME')+biases['b19'])\n",
    "    #conv20 = tf.nn.relu(tf.nn.conv2d(conv19, weights['w20'], strides=[1,1,1,1], padding='SAME')+biases['b20'])\n",
    "    out = tf.add(X,conv1)\n",
    "    \n",
    "    loss = tf.reduce_mean(tf.square(Y-out))\n",
    "    optm = tf.train.AdamOptimizer(learning_rate).minimize(loss)\n"
   ]
  },
  {
   "cell_type": "code",
   "execution_count": 11,
   "metadata": {},
   "outputs": [],
   "source": [
    "with tf.device(device):\n",
    "    config = tf.ConfigProto()\n",
    "    config.gpu_options.allow_growth = True\n",
    "    sess = tf.Session(config=config)\n",
    "    sess.run(tf.global_variables_initializer())"
   ]
  },
  {
   "cell_type": "code",
   "execution_count": 12,
   "metadata": {},
   "outputs": [],
   "source": [
    "train_path='images/train_bicubic_x2/'\n",
    "label_path='images/train_HR/'\n",
    "result_path='results/SRCNN_v1/'"
   ]
  },
  {
   "cell_type": "code",
   "execution_count": null,
   "metadata": {},
   "outputs": [
    {
     "name": "stderr",
     "output_type": "stream",
     "text": [
      "/usr/local/lib/python2.7/dist-packages/ipykernel_launcher.py:7: DeprecationWarning: `imread` is deprecated!\n",
      "`imread` is deprecated in SciPy 1.0.0, and will be removed in 1.2.0.\n",
      "Use ``imageio.imread`` instead.\n",
      "  import sys\n",
      "/usr/local/lib/python2.7/dist-packages/ipykernel_launcher.py:9: DeprecationWarning: `imread` is deprecated!\n",
      "`imread` is deprecated in SciPy 1.0.0, and will be removed in 1.2.0.\n",
      "Use ``imageio.imread`` instead.\n",
      "  if __name__ == '__main__':\n"
     ]
    }
   ],
   "source": [
    "with tf.device(device):\n",
    "    for epoch in range(epoch_size):\n",
    "        avr_psnr = 0\n",
    "        for i in range(total_iter):\n",
    "            index = np.random.choice(800, batch_size, replace=False)+1            \n",
    "            train_image = imread(path=train_path, index=index, is_train=True, scale=2)\n",
    "            label_image = imread(path=label_path, index=index)\n",
    "            \n",
    "            sess.run(optm, feed_dict={X:train_image, Y:label_image})\n",
    "\n",
    "            tr_loss = sess.run(loss, feed_dict={X:train_image, Y:label_image})\n",
    "            psnr = 20*np.log10(1./np.sqrt(tr_loss))\n",
    "            avr_psnr += psnr\n",
    "\n",
    "            \n",
    "        print ('epoch: %3d, Avr_PSNR: %4f' %(epoch, avr_psnr/total_iter))\n",
    "        img = sess.run(conv3, feed_dict={X:train_image})\n",
    "        for j in range(img.shape[0]):\n",
    "            imsave(img[j,:,:,0], result_path+'srcnn'+str(j).zfill(4)+'.png')\n",
    "            imsave(train_image[j,:,:,0], result_path+'interpol_'+str(j).zfill(4)+'.png')\n",
    "        \n",
    "    "
   ]
  },
  {
   "cell_type": "code",
   "execution_count": null,
   "metadata": {
    "collapsed": true
   },
   "outputs": [],
   "source": [
    "index"
   ]
  },
  {
   "cell_type": "code",
   "execution_count": null,
   "metadata": {},
   "outputs": [],
   "source": [
    "plt.imshow(train_image[3,:,:,0])"
   ]
  },
  {
   "cell_type": "code",
   "execution_count": null,
   "metadata": {},
   "outputs": [],
   "source": [
    "train_image.shape"
   ]
  },
  {
   "cell_type": "code",
   "execution_count": null,
   "metadata": {},
   "outputs": [],
   "source": [
    "img[,:,:,0].shape"
   ]
  },
  {
   "cell_type": "code",
   "execution_count": null,
   "metadata": {},
   "outputs": [],
   "source": [
    "A=np.random.randint(800, size=10)\n",
    "len(A)"
   ]
  },
  {
   "cell_type": "code",
   "execution_count": null,
   "metadata": {},
   "outputs": [],
   "source": [
    "for i in A:\n",
    "    print i"
   ]
  },
  {
   "cell_type": "code",
   "execution_count": null,
   "metadata": {
    "collapsed": true
   },
   "outputs": [],
   "source": []
  },
  {
   "cell_type": "code",
   "execution_count": null,
   "metadata": {},
   "outputs": [],
   "source": [
    "psnr = 10*np.log10(255./2)\n",
    "psnr"
   ]
  },
  {
   "cell_type": "code",
   "execution_count": null,
   "metadata": {
    "collapsed": true
   },
   "outputs": [],
   "source": []
  },
  {
   "cell_type": "code",
   "execution_count": null,
   "metadata": {},
   "outputs": [],
   "source": [
    "imageA.shape"
   ]
  },
  {
   "cell_type": "code",
   "execution_count": null,
   "metadata": {},
   "outputs": [],
   "source": [
    "plt.imshow(image[:,:,0])"
   ]
  },
  {
   "cell_type": "code",
   "execution_count": null,
   "metadata": {},
   "outputs": [],
   "source": [
    "A=preproc('images/train_bicubic_x2/0001x2.png', 2, False)"
   ]
  },
  {
   "cell_type": "code",
   "execution_count": null,
   "metadata": {},
   "outputs": [],
   "source": [
    "A.shape"
   ]
  },
  {
   "cell_type": "code",
   "execution_count": null,
   "metadata": {},
   "outputs": [],
   "source": [
    "imsave(A, 'results/A.png')"
   ]
  },
  {
   "cell_type": "code",
   "execution_count": null,
   "metadata": {},
   "outputs": [],
   "source": [
    "np.max(imageHR)"
   ]
  },
  {
   "cell_type": "code",
   "execution_count": null,
   "metadata": {},
   "outputs": [],
   "source": [
    "plt.imshow(imageHR)"
   ]
  },
  {
   "cell_type": "code",
   "execution_count": null,
   "metadata": {
    "collapsed": true
   },
   "outputs": [],
   "source": []
  }
 ],
 "metadata": {
  "kernelspec": {
   "display_name": "Python 2",
   "language": "python",
   "name": "python2"
  },
  "language_info": {
   "codemirror_mode": {
    "name": "ipython",
    "version": 2
   },
   "file_extension": ".py",
   "mimetype": "text/x-python",
   "name": "python",
   "nbconvert_exporter": "python",
   "pygments_lexer": "ipython2",
   "version": "2.7.12"
  }
 },
 "nbformat": 4,
 "nbformat_minor": 2
}
