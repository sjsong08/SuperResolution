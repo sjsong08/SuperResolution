{
 "cells": [
  {
   "cell_type": "code",
   "execution_count": 2,
   "metadata": {},
   "outputs": [
    {
     "name": "stdout",
     "output_type": "stream",
     "text": [
      "Training data set : 50000, Test data Set : 10000\n"
     ]
    }
   ],
   "source": [
    "import os, sys, time\n",
    "import numpy as np\n",
    "import scipy.ndimage, scipy.misc\n",
    "import matplotlib.pyplot as plt\n",
    "import pickle\n",
    "import tensorflow as tf\n",
    "slim = tf.contrib.slim\n",
    "\n",
    "os.environ[\"CUDA_DEVICE_ORDER\"]=\"PCI_BUS_ID\"\n",
    "os.environ[\"CUDA_VISIBLE_DEVICES\"]=\"2\"\n",
    "#os.environ[\"CUDA_VISIBLE_DEVICES\"]=\"0,1\"\n",
    "\n",
    "\n",
    "\n",
    "def unpickle(file):\n",
    "    with open(file, 'rb') as f:\n",
    "        data = pickle.load(f, encoding='latin1')\n",
    "        return data\n",
    "\n",
    "def load_cifar10_data(data_dir):\n",
    "    train_data = None\n",
    "    train_labels = []\n",
    "    \n",
    "    for i in range(1,6):\n",
    "        data_dic = unpickle(data_dir + \"/data_batch_{}\".format(i))\n",
    "        if i==1:\n",
    "            train_data = data_dic['data']\n",
    "        else:\n",
    "            train_data = np.vstack((train_data, data_dic['data']))\n",
    "        train_labels += data_dic['labels']\n",
    "    test_data_dic = unpickle(data_dir + \"/test_batch\")\n",
    "    test_data = test_data_dic['data']\n",
    "    test_labels = test_data_dic['labels']\n",
    "    \n",
    "    train_data = train_data.reshape((len(train_data), 3, 32, 32))\n",
    "    train_data = np.rollaxis(train_data, 1, 4)\n",
    "    train_labels = np.array(train_labels)\n",
    "    \n",
    "    test_data = test_data.reshape((len(test_data), 3, 32, 32))\n",
    "    test_data = np.rollaxis(test_data, 1, 4)\n",
    "    test_labels = np.array(test_labels)\n",
    "    \n",
    "    return train_data, train_labels, test_data, test_labels\n",
    "\n",
    "data_dir = '/ideaHome/Dropbox/SJ/ML/Cifar10/Data/cifar-10-batches-py'\n",
    "trImg, train_labels, teImg, test_labels = load_cifar10_data(data_dir)\n",
    "\n",
    "\n",
    "print(\"Training data set : %3d, Test data Set : %3d\" %(trImg.shape[0], teImg.shape[0]))"
   ]
  },
  {
   "cell_type": "code",
   "execution_count": 3,
   "metadata": {},
   "outputs": [],
   "source": [
    "def toLR(image, scale=2.):\n",
    "    if len(image.shape)==4:\n",
    "        num_sample = image.shape[0]\n",
    "        images = np.zeros([image.shape[0], int(image.shape[1]/scale), int(image.shape[2]/scale), image.shape[3]])\n",
    "        for i in range(num_sample):\n",
    "            images[i,:,:,:] = scipy.misc.imresize(image[i,:,:,:], 1/scale,'bicubic')\n",
    "        return images\n",
    "    else:\n",
    "        return scipy.misc.imresize(image, 1/scale, 'bicubic')\n",
    "    \n",
    "\n",
    "def Bicubic(image, scale=2):\n",
    "    if len(image.shape)==4:\n",
    "        bicImg = scipy.ndimage.interpolation.zoom(image, [1, scale, scale, 1], prefilter=False)\n",
    "    else:\n",
    "        bicImg = scipy.ndimage.interpolation.zoom(image, [scale,scale,1], prefilter=False)\n",
    "    return bicImg"
   ]
  },
  {
   "cell_type": "code",
   "execution_count": 4,
   "metadata": {},
   "outputs": [
    {
     "data": {
      "text/plain": [
       "(32, 32, 3)"
      ]
     },
     "execution_count": 4,
     "metadata": {},
     "output_type": "execute_result"
    },
    {
     "data": {
      "image/png": "[encoded data removed]",
      "text/plain": [
       "<matplotlib.figure.Figure at 0x7f0308edef28>"
      ]
     },
     "metadata": {},
     "output_type": "display_data"
    }
   ],
   "source": [
    "testimg = trImg[0,:,:,:]\n",
    "plt.imshow(testimg)\n",
    "testimg.shape"
   ]
  },
  {
   "cell_type": "code",
   "execution_count": 5,
   "metadata": {},
   "outputs": [],
   "source": [
    "class SRCNN(object):\n",
    "    def __init__(self, mode):\n",
    "        self.LR_dim = (16,16,3)\n",
    "        self.HR_dim = (32,32,3)\n",
    "        self.batch_size = 16\n",
    "        self.mode = mode\n",
    "\n",
    "        print('The model is generated')\n",
    "        \n",
    "    def model(self, img):\n",
    "        with slim.arg_scope([slim.conv2d], stride=[1,1], activation_fn = tf.nn.relu, padding='SAME',\n",
    "                                                   weights_initializer=tf.contrib.layers.xavier_initializer()):\n",
    "            self.layer1 = slim.conv2d(inputs=img, num_outputs=64, kernel_size=[9,9], scope='layer1')\n",
    "            self.layer2 = slim.conv2d(inputs=self.layer1, num_outputs=32, kernel_size=[1,1], scope='layer2')\n",
    "            self.layer3 = slim.conv2d(inputs=self.layer2, num_outputs=3, kernel_size=[5,5], scope='layer', activation_fn=None)\n",
    "            out = self.layer3\n",
    "        return out\n",
    "    \n",
    "    def loss(self, SR, HR):\n",
    "        loss = tf.reduce_mean(tf.square(SR - HR))\n",
    "        return loss\n",
    "    \n",
    "    def build(self):\n",
    "        if self.mode == 'bicubic':\n",
    "            self.LRImg = tf.placeholder(tf.float32, [None, 32, 32, 3], 'LRImgBicubic')\n",
    "        elif self.mode == 'pixelshuffle':\n",
    "            self.LRImg = tf.placeholder(tf.float32, [None, 16, 16, 3], 'LRImgPixelShuffle')\n",
    "        else:\n",
    "            print ('undefined mode')\n",
    "        self.HRImg = tf.placeholder(tf.float32, [None, 32, 32, 3], 'HRImg')\n",
    "        self.SRImg = self.model(self.LRImg)\n",
    "        self.LOSS = self.loss(self.SRImg, self.HRImg)\n",
    "    \n",
    "    \n",
    "    \n",
    "    def _phase_shift(I, r):\n",
    "        # Helper function with main phase shift operation\n",
    "        bsize, a, b, c = I.get_shape().as_list()\n",
    "        X = tf.reshape(I, (bsize, a, b, r, r))\n",
    "        X = tf.transpose(X, (0, 1, 2, 4, 3))  # bsize, a, b, 1, 1\n",
    "        X = tf.split(X, a, 1)  # a, [bsize, b, r, r]\n",
    "        X = tf.concat([tf.squeeze(x) for x in X], asix=2)  # bsize, b, a*r, r\n",
    "        X = tf.split(X, b, 1)  # b, [bsize, a*r, r]\n",
    "        X = tf.concat([tf.squeeze(x) for x in X], axis=2)  # bsize, a*r, b*r\n",
    "        return tf.reshape(X, (bsize, a*r, b*r, 1))\n",
    "\n",
    "    def PS(X, r, color=False):\n",
    "      # Main OP that you can arbitrarily use in you tensorflow code\n",
    "        if color:\n",
    "            Xc = tf.split(X,3,3) #(3, 3, X)\n",
    "            X = tf.concat([_phase_shift(x, r) for x in Xc], axis=3)\n",
    "        else:\n",
    "            X = _phase_shift(X, r)\n",
    "        return X"
   ]
  },
  {
   "cell_type": "code",
   "execution_count": 6,
   "metadata": {},
   "outputs": [
    {
     "name": "stdout",
     "output_type": "stream",
     "text": [
      "The model is generated\n",
      "---------\n",
      "Variables: name (type shape) [size]\n",
      "---------\n",
      "layer1/weights:0 (float32_ref 9x9x3x64) [15552, bytes: 62208]\n",
      "layer1/biases:0 (float32_ref 64) [64, bytes: 256]\n",
      "layer2/weights:0 (float32_ref 1x1x64x32) [2048, bytes: 8192]\n",
      "layer2/biases:0 (float32_ref 32) [32, bytes: 128]\n",
      "layer/weights:0 (float32_ref 5x5x32x3) [2400, bytes: 9600]\n",
      "layer/biases:0 (float32_ref 3) [3, bytes: 12]\n",
      "Total size of variables: 20099\n",
      "Total bytes of variables: 80396\n"
     ]
    },
    {
     "data": {
      "text/plain": [
       "(20099, 80396)"
      ]
     },
     "execution_count": 6,
     "metadata": {},
     "output_type": "execute_result"
    }
   ],
   "source": [
    "tf.reset_default_graph()\n",
    "model = SRCNN('bicubic')\n",
    "model.build()\n",
    "\n",
    "t_vars = tf.trainable_variables()\n",
    "slim.model_analyzer.analyze_vars(t_vars, print_info=True)"
   ]
  },
  {
   "cell_type": "code",
   "execution_count": 7,
   "metadata": {},
   "outputs": [],
   "source": [
    "optm = tf.train.AdamOptimizer(learning_rate=1e-5).minimize(model.LOSS)"
   ]
  },
  {
   "cell_type": "code",
   "execution_count": 8,
   "metadata": {},
   "outputs": [],
   "source": [
    "config = tf.ConfigProto()\n",
    "config.gpu_options.allow_growth = True\n",
    "sess = tf.Session(config=config) \n",
    "sess.run(tf.global_variables_initializer())"
   ]
  },
  {
   "cell_type": "code",
   "execution_count": 10,
   "metadata": {},
   "outputs": [
    {
     "name": "stderr",
     "output_type": "stream",
     "text": [
      "/usr/local/lib/python3.5/dist-packages/scipy/misc/pilutil.py:482: FutureWarning: Conversion of the second argument of issubdtype from `int` to `np.signedinteger` is deprecated. In future, it will be treated as `np.int64 == np.dtype(int).type`.\n",
      "  if issubdtype(ts, int):\n",
      "/usr/local/lib/python3.5/dist-packages/scipy/misc/pilutil.py:485: FutureWarning: Conversion of the second argument of issubdtype from `float` to `np.floating` is deprecated. In future, it will be treated as `np.float64 == np.dtype(float).type`.\n",
      "  elif issubdtype(type(size), float):\n"
     ]
    },
    {
     "name": "stdout",
     "output_type": "stream",
     "text": [
      "epoch:   0, avg_PSNR: 15.370409, time for epoch: 432.00\n",
      "epoch:   1, avg_PSNR: 18.057391, time for epoch: 429.42\n",
      "epoch:   2, avg_PSNR: 18.444868, time for epoch: 431.93\n",
      "epoch:   3, avg_PSNR: 18.672325, time for epoch: 432.69\n",
      "epoch:   4, avg_PSNR: 18.819412, time for epoch: 431.70\n",
      "epoch:   5, avg_PSNR: 18.916656, time for epoch: 433.82\n",
      "epoch:   6, avg_PSNR: 18.991566, time for epoch: 431.84\n",
      "epoch:   7, avg_PSNR: 19.054609, time for epoch: 446.27\n",
      "epoch:   8, avg_PSNR: 19.108420, time for epoch: 448.27\n",
      "epoch:   9, avg_PSNR: 19.155910, time for epoch: 449.99\n",
      "epoch:  10, avg_PSNR: 19.197000, time for epoch: 449.37\n",
      "epoch:  11, avg_PSNR: 19.233388, time for epoch: 444.50\n",
      "epoch:  12, avg_PSNR: 19.265859, time for epoch: 450.36\n",
      "epoch:  13, avg_PSNR: 19.295419, time for epoch: 449.82\n",
      "epoch:  14, avg_PSNR: 19.322541, time for epoch: 450.19\n",
      "epoch:  15, avg_PSNR: 19.347574, time for epoch: 450.06\n",
      "epoch:  16, avg_PSNR: 19.370819, time for epoch: 449.55\n",
      "epoch:  17, avg_PSNR: 19.392530, time for epoch: 450.51\n",
      "epoch:  18, avg_PSNR: 19.413027, time for epoch: 449.73\n",
      "epoch:  19, avg_PSNR: 19.432569, time for epoch: 449.98\n",
      "epoch:  20, avg_PSNR: 19.451264, time for epoch: 449.57\n",
      "epoch:  21, avg_PSNR: 19.468985, time for epoch: 450.00\n",
      "epoch:  22, avg_PSNR: 19.485921, time for epoch: 449.86\n",
      "epoch:  23, avg_PSNR: 19.502275, time for epoch: 449.41\n",
      "epoch:  24, avg_PSNR: 19.518115, time for epoch: 449.46\n",
      "epoch:  25, avg_PSNR: 19.533251, time for epoch: 449.56\n",
      "epoch:  26, avg_PSNR: 19.547912, time for epoch: 449.96\n",
      "epoch:  27, avg_PSNR: 19.562094, time for epoch: 449.71\n",
      "epoch:  28, avg_PSNR: 19.575800, time for epoch: 449.68\n",
      "epoch:  29, avg_PSNR: 19.589045, time for epoch: 449.90\n",
      "epoch:  30, avg_PSNR: 19.601832, time for epoch: 449.33\n",
      "epoch:  31, avg_PSNR: 19.614210, time for epoch: 450.09\n",
      "epoch:  32, avg_PSNR: 19.626324, time for epoch: 450.39\n",
      "epoch:  33, avg_PSNR: 19.638193, time for epoch: 449.76\n",
      "epoch:  34, avg_PSNR: 19.649621, time for epoch: 449.86\n",
      "epoch:  35, avg_PSNR: 19.660850, time for epoch: 450.12\n",
      "epoch:  36, avg_PSNR: 19.671812, time for epoch: 449.57\n",
      "epoch:  37, avg_PSNR: 19.682303, time for epoch: 450.02\n",
      "epoch:  38, avg_PSNR: 19.692421, time for epoch: 450.83\n",
      "epoch:  39, avg_PSNR: 19.702137, time for epoch: 450.09\n",
      "epoch:  40, avg_PSNR: 19.711493, time for epoch: 449.40\n",
      "epoch:  41, avg_PSNR: 19.720521, time for epoch: 449.02\n",
      "epoch:  42, avg_PSNR: 19.729232, time for epoch: 450.18\n",
      "epoch:  43, avg_PSNR: 19.737641, time for epoch: 449.44\n",
      "epoch:  44, avg_PSNR: 19.745770, time for epoch: 449.84\n",
      "epoch:  45, avg_PSNR: 19.753589, time for epoch: 449.81\n",
      "epoch:  46, avg_PSNR: 19.761137, time for epoch: 449.19\n",
      "epoch:  47, avg_PSNR: 19.768413, time for epoch: 449.57\n",
      "epoch:  48, avg_PSNR: 19.775443, time for epoch: 449.50\n",
      "epoch:  49, avg_PSNR: 19.782208, time for epoch: 450.36\n",
      "epoch:  50, avg_PSNR: 19.788752, time for epoch: 449.63\n",
      "epoch:  51, avg_PSNR: 19.795068, time for epoch: 450.35\n",
      "epoch:  52, avg_PSNR: 19.801166, time for epoch: 450.29\n",
      "epoch:  53, avg_PSNR: 19.807069, time for epoch: 450.24\n",
      "epoch:  54, avg_PSNR: 19.812725, time for epoch: 449.66\n",
      "epoch:  55, avg_PSNR: 19.818214, time for epoch: 450.15\n",
      "epoch:  56, avg_PSNR: 19.823512, time for epoch: 449.42\n",
      "epoch:  57, avg_PSNR: 19.828636, time for epoch: 449.18\n",
      "epoch:  58, avg_PSNR: 19.833572, time for epoch: 449.70\n",
      "epoch:  59, avg_PSNR: 19.838356, time for epoch: 449.64\n",
      "epoch:  60, avg_PSNR: 19.843530, time for epoch: 449.03\n",
      "epoch:  61, avg_PSNR: 19.848462, time for epoch: 449.66\n",
      "epoch:  62, avg_PSNR: 19.852999, time for epoch: 449.02\n",
      "epoch:  63, avg_PSNR: 19.857376, time for epoch: 449.45\n",
      "epoch:  64, avg_PSNR: 19.861581, time for epoch: 449.57\n",
      "epoch:  65, avg_PSNR: 19.865660, time for epoch: 446.77\n",
      "epoch:  66, avg_PSNR: 19.869623, time for epoch: 432.32\n",
      "epoch:  67, avg_PSNR: 19.873475, time for epoch: 446.93\n",
      "epoch:  68, avg_PSNR: 19.877205, time for epoch: 450.18\n",
      "epoch:  69, avg_PSNR: 19.880812, time for epoch: 453.80\n",
      "epoch:  70, avg_PSNR: 19.884344, time for epoch: 462.00\n",
      "epoch:  71, avg_PSNR: 19.887759, time for epoch: 449.05\n",
      "epoch:  72, avg_PSNR: 19.891048, time for epoch: 449.48\n",
      "epoch:  73, avg_PSNR: 19.894255, time for epoch: 449.27\n",
      "epoch:  74, avg_PSNR: 19.897359, time for epoch: 449.26\n",
      "epoch:  75, avg_PSNR: 19.900371, time for epoch: 449.59\n",
      "epoch:  76, avg_PSNR: 19.903306, time for epoch: 449.33\n",
      "epoch:  77, avg_PSNR: 19.906186, time for epoch: 449.54\n",
      "epoch:  78, avg_PSNR: 19.909128, time for epoch: 449.31\n",
      "epoch:  79, avg_PSNR: 19.912008, time for epoch: 449.65\n",
      "epoch:  80, avg_PSNR: 19.914817, time for epoch: 448.84\n",
      "epoch:  81, avg_PSNR: 19.917554, time for epoch: 449.87\n",
      "epoch:  82, avg_PSNR: 19.920197, time for epoch: 449.12\n",
      "epoch:  83, avg_PSNR: 19.922751, time for epoch: 449.52\n",
      "epoch:  84, avg_PSNR: 19.925274, time for epoch: 448.48\n",
      "epoch:  85, avg_PSNR: 19.927719, time for epoch: 449.56\n",
      "epoch:  86, avg_PSNR: 19.930117, time for epoch: 449.11\n",
      "epoch:  87, avg_PSNR: 19.932513, time for epoch: 449.00\n",
      "epoch:  88, avg_PSNR: 19.934847, time for epoch: 450.05\n",
      "epoch:  89, avg_PSNR: 19.937147, time for epoch: 449.78\n",
      "epoch:  90, avg_PSNR: 19.939436, time for epoch: 449.45\n",
      "epoch:  91, avg_PSNR: 19.941680, time for epoch: 449.49\n",
      "epoch:  92, avg_PSNR: 19.943861, time for epoch: 449.32\n",
      "epoch:  93, avg_PSNR: 19.945988, time for epoch: 449.13\n",
      "epoch:  94, avg_PSNR: 19.948089, time for epoch: 449.94\n",
      "epoch:  95, avg_PSNR: 19.950142, time for epoch: 449.43\n",
      "epoch:  96, avg_PSNR: 19.952158, time for epoch: 448.94\n",
      "epoch:  97, avg_PSNR: 19.954148, time for epoch: 449.30\n",
      "epoch:  98, avg_PSNR: 19.956104, time for epoch: 449.67\n",
      "epoch:  99, avg_PSNR: 19.958028, time for epoch: 449.47\n"
     ]
    }
   ],
   "source": [
    "batch_size=16\n",
    "total_iter = int(trImg.shape[0]/batch_size)-1\n",
    "for epoch in range(100):\n",
    "    avg_psnr = 0\n",
    "    start_time = time.time()\n",
    "    for batch in range(total_iter):\n",
    "        LRImg = Bicubic(toLR(trImg[batch:batch + batch_size,:,:,:]))\n",
    "        HRImg = trImg[batch:batch+batch_size,:,:,:]\n",
    "        _, loss = sess.run([optm, model.LOSS], feed_dict={model.LRImg:LRImg, model.HRImg: HRImg})\n",
    "        psnr = 20*np.log10(255./np.sqrt(loss))\n",
    "        print (\"\\rbatch: {}/{} ({:.1f}%) psnr: {:.5f}\".format(batch, total_iter, batch*100/total_iter, psnr), end=\"\")\n",
    "        avg_psnr+=psnr\n",
    "    \n",
    "    print ('\\repoch: %3d, avg_PSNR: %4f, time for epoch: %.2f' %(epoch, avg_psnr/total_iter, time.time()-start_time))"
   ]
  },
  {
   "cell_type": "code",
   "execution_count": 34,
   "metadata": {},
   "outputs": [
    {
     "ename": "SyntaxError",
     "evalue": "invalid syntax (<ipython-input-34-625ababd7c58>, line 1)",
     "output_type": "error",
     "traceback": [
      "\u001b[0;36m  File \u001b[0;32m\"<ipython-input-34-625ababd7c58>\"\u001b[0;36m, line \u001b[0;32m1\u001b[0m\n\u001b[0;31m    a=np.array([1:10])\u001b[0m\n\u001b[0m                 ^\u001b[0m\n\u001b[0;31mSyntaxError\u001b[0m\u001b[0;31m:\u001b[0m invalid syntax\n"
     ]
    }
   ],
   "source": []
  },
  {
   "cell_type": "code",
   "execution_count": null,
   "metadata": {},
   "outputs": [],
   "source": []
  }
 ],
 "metadata": {
  "kernelspec": {
   "display_name": "Python 3",
   "language": "python",
   "name": "python3"
  },
  "language_info": {
   "codemirror_mode": {
    "name": "ipython",
    "version": 3
   },
   "file_extension": ".py",
   "mimetype": "text/x-python",
   "name": "python",
   "nbconvert_exporter": "python",
   "pygments_lexer": "ipython3",
   "version": "3.5.2"
  }
 },
 "nbformat": 4,
 "nbformat_minor": 2
}
